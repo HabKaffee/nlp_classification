{
 "cells": [
  {
   "cell_type": "code",
   "execution_count": 1,
   "metadata": {},
   "outputs": [
    {
     "name": "stderr",
     "output_type": "stream",
     "text": [
      "[nltk_data] Downloading package stopwords to\n",
      "[nltk_data]     /home/habkaffee/nltk_data...\n",
      "[nltk_data]   Package stopwords is already up-to-date!\n",
      "[nltk_data] Downloading package wordnet to\n",
      "[nltk_data]     /home/habkaffee/nltk_data...\n",
      "[nltk_data]   Package wordnet is already up-to-date!\n"
     ]
    }
   ],
   "source": [
    "import numpy as np\n",
    "import pandas as pd\n",
    "import string\n",
    "import nltk\n",
    "from nltk.corpus import stopwords\n",
    "from nltk.stem import WordNetLemmatizer\n",
    "from nltk.tokenize import WhitespaceTokenizer\n",
    "\n",
    "from gensim.models import Word2Vec\n",
    "\n",
    "from sklearn.model_selection import train_test_split\n",
    "\n",
    "nltk.download('stopwords')\n",
    "nltk.download('wordnet')\n",
    "import re\n",
    "import matplotlib.pyplot as plt"
   ]
  },
  {
   "cell_type": "code",
   "execution_count": 2,
   "metadata": {},
   "outputs": [],
   "source": [
    "# dataset = pd.read_csv('data/DATASET.csv')\n",
    "# dataset"
   ]
  },
  {
   "cell_type": "markdown",
   "metadata": {},
   "source": [
    "# Preprocessing"
   ]
  },
  {
   "cell_type": "code",
   "execution_count": 3,
   "metadata": {},
   "outputs": [],
   "source": [
    "exclude_symbols = u''.join(['№', '«', 'ђ', '°', '±', '‚', 'ћ', '‰', '…', '»', 'ѓ', 'µ', '·', 'ґ', 'њ', 'ї', 'џ', 'є', '‹',\n",
    "                            '‡', '†', '¶', 'ќ', '€', '“', 'ў', '§', '„', '”', '\\ufeff', '’', 'љ', '›', '•', '—', '‘', \n",
    "                            '\\x7f', '\\xad', '¤', '\\xa0', '\\u200b', '–']) + string.punctuation\n",
    "regex_symb = re.compile('[%s]' % re.escape(exclude_symbols))"
   ]
  },
  {
   "cell_type": "code",
   "execution_count": 4,
   "metadata": {},
   "outputs": [
    {
     "data": {
      "text/plain": [
       "['i', 'me', 'my', 'myself', 'we', 'our', 'ours', 'ourselves', 'you', \"you're\"]"
      ]
     },
     "execution_count": 4,
     "metadata": {},
     "output_type": "execute_result"
    }
   ],
   "source": [
    "stop_words = stopwords.words('english')\n",
    "pattern = r'\\b(?:' + '|'.join(stop_words) + r')\\b'\n",
    "stop_words[:10]"
   ]
  },
  {
   "cell_type": "code",
   "execution_count": 5,
   "metadata": {},
   "outputs": [],
   "source": [
    "tokenizer = WhitespaceTokenizer()\n",
    "lemmatizer = WordNetLemmatizer()"
   ]
  },
  {
   "cell_type": "code",
   "execution_count": 6,
   "metadata": {},
   "outputs": [],
   "source": [
    "# def lemmatize_sentence(sentence):\n",
    "#     if isinstance(sentence, str):\n",
    "#       sentence = [lemmatizer.lemmatize(word) for word in tokenizer.tokenize(sentence)]\n",
    "#     return sentence"
   ]
  },
  {
   "cell_type": "code",
   "execution_count": 7,
   "metadata": {},
   "outputs": [],
   "source": [
    "dataset = pd.read_csv('data/DATASET.csv')"
   ]
  },
  {
   "cell_type": "code",
   "execution_count": 8,
   "metadata": {},
   "outputs": [
    {
     "data": {
      "image/png": "[encoded data removed]",
      "text/plain": [
       "<Figure size 640x480 with 1 Axes>"
      ]
     },
     "metadata": {},
     "output_type": "display_data"
    }
   ],
   "source": [
    "plt.figure()\n",
    "dataset['label'].value_counts().plot.bar()\n",
    "plt.show()"
   ]
  },
  {
   "cell_type": "code",
   "execution_count": 9,
   "metadata": {},
   "outputs": [
    {
     "data": {
      "text/html": [
       "<div>\n",
       "<style scoped>\n",
       "    .dataframe tbody tr th:only-of-type {\n",
       "        vertical-align: middle;\n",
       "    }\n",
       "\n",
       "    .dataframe tbody tr th {\n",
       "        vertical-align: top;\n",
       "    }\n",
       "\n",
       "    .dataframe thead th {\n",
       "        text-align: right;\n",
       "    }\n",
       "</style>\n",
       "<table border=\"1\" class=\"dataframe\">\n",
       "  <thead>\n",
       "    <tr style=\"text-align: right;\">\n",
       "      <th></th>\n",
       "      <th>Review</th>\n",
       "      <th>label</th>\n",
       "    </tr>\n",
       "  </thead>\n",
       "  <tbody>\n",
       "    <tr>\n",
       "      <th>0</th>\n",
       "      <td>[great, music, service, audio, high, quality, ...</td>\n",
       "      <td>1</td>\n",
       "    </tr>\n",
       "    <tr>\n",
       "      <th>1</th>\n",
       "      <td>[please, ignore, previous, negative, rat, app,...</td>\n",
       "      <td>1</td>\n",
       "    </tr>\n",
       "    <tr>\n",
       "      <th>2</th>\n",
       "      <td>[pop, get, best, spotify, experience, android,...</td>\n",
       "      <td>0</td>\n",
       "    </tr>\n",
       "    <tr>\n",
       "      <th>3</th>\n",
       "      <td>[really, buggy, terrible, use, recently]</td>\n",
       "      <td>0</td>\n",
       "    </tr>\n",
       "    <tr>\n",
       "      <th>4</th>\n",
       "      <td>[dear, spotify, get, song, put, playlist, shuf...</td>\n",
       "      <td>0</td>\n",
       "    </tr>\n",
       "    <tr>\n",
       "      <th>...</th>\n",
       "      <td>...</td>\n",
       "      <td>...</td>\n",
       "    </tr>\n",
       "    <tr>\n",
       "      <th>52697</th>\n",
       "      <td>[yes, best]</td>\n",
       "      <td>1</td>\n",
       "    </tr>\n",
       "    <tr>\n",
       "      <th>52698</th>\n",
       "      <td>[spotify, heart, feb, heart, music, lyric, lan...</td>\n",
       "      <td>1</td>\n",
       "    </tr>\n",
       "    <tr>\n",
       "      <th>52699</th>\n",
       "      <td>[try, open, app, wont, open, restart, phone, i...</td>\n",
       "      <td>1</td>\n",
       "    </tr>\n",
       "    <tr>\n",
       "      <th>52700</th>\n",
       "      <td>[good]</td>\n",
       "      <td>1</td>\n",
       "    </tr>\n",
       "    <tr>\n",
       "      <th>52701</th>\n",
       "      <td>[nice, app, play, music, affordable, price]</td>\n",
       "      <td>1</td>\n",
       "    </tr>\n",
       "  </tbody>\n",
       "</table>\n",
       "<p>48067 rows × 2 columns</p>\n",
       "</div>"
      ],
      "text/plain": [
       "                                                  Review label\n",
       "0      [great, music, service, audio, high, quality, ...     1\n",
       "1      [please, ignore, previous, negative, rat, app,...     1\n",
       "2      [pop, get, best, spotify, experience, android,...     0\n",
       "3               [really, buggy, terrible, use, recently]     0\n",
       "4      [dear, spotify, get, song, put, playlist, shuf...     0\n",
       "...                                                  ...   ...\n",
       "52697                                        [yes, best]     1\n",
       "52698  [spotify, heart, feb, heart, music, lyric, lan...     1\n",
       "52699  [try, open, app, wont, open, restart, phone, i...     1\n",
       "52700                                             [good]     1\n",
       "52701        [nice, app, play, music, affordable, price]     1\n",
       "\n",
       "[48067 rows x 2 columns]"
      ]
     },
     "execution_count": 9,
     "metadata": {},
     "output_type": "execute_result"
    }
   ],
   "source": [
    "dataset['Review'] = dataset['Review'].str.lower()\n",
    "dataset = dataset.loc[dataset['Review'].apply(lambda x: isinstance(x, str) and x.isascii())]\n",
    "dataset['label'] = dataset['label'].str.replace('POSITIVE', '1').replace('NEGATIVE', '0')\n",
    "dataset['Review'] = dataset['Review'].str.replace(pattern, '', regex=True)\n",
    "dataset['Review'] = dataset['Review'].str.replace(f'[{string.punctuation}]+', ' ', regex=True)\n",
    "dataset['Review'] = dataset['Review'].str.replace(r'\\s+', ' ', regex=True)\n",
    "dataset['Review'] = dataset['Review'].str.replace(f'[0-9]+', '', regex=True)\n",
    "\n",
    "dataset['Review'] = dataset['Review'].apply(lambda sentence : tokenizer.tokenize(sentence))\n",
    "dataset['Review'] = dataset['Review'].apply(lambda sentence : [lemmatizer.lemmatize(word, pos='n') for word in sentence])\n",
    "dataset['Review'] = dataset['Review'].apply(lambda sentence : [lemmatizer.lemmatize(word, pos='v') for word in sentence])\n",
    "dataset['Review'] = dataset['Review'].apply(lambda sentence : [lemmatizer.lemmatize(word, pos='a') for word in sentence])\n",
    "dataset['Review'] = dataset['Review'].apply(lambda sentence : [lemmatizer.lemmatize(word, pos='r') for word in sentence])\n",
    "# dataset['Review'] = dataset['Review'].apply(lambda sentence : ' '.join(sentence))\n",
    "dataset"
   ]
  },
  {
   "cell_type": "code",
   "execution_count": 10,
   "metadata": {},
   "outputs": [
    {
     "data": {
      "image/png": "[encoded data removed]",
      "text/plain": [
       "<Figure size 640x480 with 1 Axes>"
      ]
     },
     "metadata": {},
     "output_type": "display_data"
    }
   ],
   "source": [
    "plt.figure()\n",
    "dataset['label'].value_counts().plot.bar()\n",
    "plt.show()"
   ]
  },
  {
   "cell_type": "code",
   "execution_count": 24,
   "metadata": {},
   "outputs": [],
   "source": [
    "negative_df = dataset[dataset['label'] == '0']['Review'].apply(lambda x : ' '.join(x))\n",
    "positive_df = dataset[dataset['label'] == '1']['Review'].apply(lambda x : ' '.join(x))"
   ]
  },
  {
   "cell_type": "code",
   "execution_count": 28,
   "metadata": {},
   "outputs": [
    {
     "data": {
      "text/plain": [
       "song          17863\n",
       "app           17285\n",
       "play          13951\n",
       "music          9206\n",
       "spotify        8236\n",
       "              ...  \n",
       "wats              1\n",
       "doooing           1\n",
       "ingredient        1\n",
       "margarita         1\n",
       "unabled           1\n",
       "Name: count, Length: 11726, dtype: int64"
      ]
     },
     "execution_count": 28,
     "metadata": {},
     "output_type": "execute_result"
    }
   ],
   "source": [
    "neg_res = negative_df.str.split(expand=True).stack().value_counts()\n",
    "neg_res"
   ]
  },
  {
   "cell_type": "code",
   "execution_count": 29,
   "metadata": {},
   "outputs": [
    {
     "data": {
      "text/plain": [
       "music         10125\n",
       "app            9199\n",
       "song           6018\n",
       "spotify        5287\n",
       "love           5097\n",
       "              ...  \n",
       "connexion         1\n",
       "anxious           1\n",
       "horrendous        1\n",
       "manualy           1\n",
       "iykyk             1\n",
       "Name: count, Length: 8406, dtype: int64"
      ]
     },
     "execution_count": 29,
     "metadata": {},
     "output_type": "execute_result"
    }
   ],
   "source": [
    "pos_res = positive_df.str.split(expand=True).stack().value_counts()\n",
    "pos_res"
   ]
  },
  {
   "cell_type": "code",
   "execution_count": 39,
   "metadata": {},
   "outputs": [
    {
     "data": {
      "image/png": "[encoded data removed]",
      "text/plain": [
       "<Figure size 1500x200 with 1 Axes>"
      ]
     },
     "metadata": {},
     "output_type": "display_data"
    }
   ],
   "source": [
    "plt.figure(figsize=(15, 2))\n",
    "neg_res[:50].plot.bar()\n",
    "plt.title('Negative review top 50 words')\n",
    "plt.show()"
   ]
  },
  {
   "cell_type": "code",
   "execution_count": 40,
   "metadata": {},
   "outputs": [
    {
     "data": {
      "image/png": "[encoded data removed]",
      "text/plain": [
       "<Figure size 1500x200 with 1 Axes>"
      ]
     },
     "metadata": {},
     "output_type": "display_data"
    }
   ],
   "source": [
    "plt.figure(figsize=(15, 2))\n",
    "pos_res[:50].plot.bar()\n",
    "plt.title('Positive review top 50 words')\n",
    "plt.show()"
   ]
  },
  {
   "cell_type": "code",
   "execution_count": 41,
   "metadata": {},
   "outputs": [],
   "source": [
    "X, Y = dataset['Review'], dataset['label']"
   ]
  },
  {
   "cell_type": "code",
   "execution_count": 42,
   "metadata": {},
   "outputs": [
    {
     "data": {
      "text/plain": [
       "0    [great, music, service, audio, high, quality, ...\n",
       "1    [please, ignore, previous, negative, rat, app,...\n",
       "2    [pop, get, best, spotify, experience, android,...\n",
       "3             [really, buggy, terrible, use, recently]\n",
       "4    [dear, spotify, get, song, put, playlist, shuf...\n",
       "Name: Review, dtype: object"
      ]
     },
     "execution_count": 42,
     "metadata": {},
     "output_type": "execute_result"
    }
   ],
   "source": [
    "X.head()"
   ]
  },
  {
   "cell_type": "code",
   "execution_count": 43,
   "metadata": {},
   "outputs": [
    {
     "data": {
      "text/plain": [
       "0    1\n",
       "1    1\n",
       "2    0\n",
       "3    0\n",
       "4    0\n",
       "Name: label, dtype: object"
      ]
     },
     "execution_count": 43,
     "metadata": {},
     "output_type": "execute_result"
    }
   ],
   "source": [
    "Y.head()"
   ]
  },
  {
   "cell_type": "code",
   "execution_count": 44,
   "metadata": {},
   "outputs": [
    {
     "data": {
      "text/html": [
       "<div>\n",
       "<style scoped>\n",
       "    .dataframe tbody tr th:only-of-type {\n",
       "        vertical-align: middle;\n",
       "    }\n",
       "\n",
       "    .dataframe tbody tr th {\n",
       "        vertical-align: top;\n",
       "    }\n",
       "\n",
       "    .dataframe thead th {\n",
       "        text-align: right;\n",
       "    }\n",
       "</style>\n",
       "<table border=\"1\" class=\"dataframe\">\n",
       "  <thead>\n",
       "    <tr style=\"text-align: right;\">\n",
       "      <th></th>\n",
       "      <th>0</th>\n",
       "      <th>1</th>\n",
       "      <th>2</th>\n",
       "      <th>3</th>\n",
       "      <th>4</th>\n",
       "      <th>5</th>\n",
       "      <th>6</th>\n",
       "      <th>7</th>\n",
       "      <th>8</th>\n",
       "      <th>9</th>\n",
       "      <th>...</th>\n",
       "      <th>15392</th>\n",
       "      <th>15393</th>\n",
       "      <th>15394</th>\n",
       "      <th>15395</th>\n",
       "      <th>15396</th>\n",
       "      <th>15397</th>\n",
       "      <th>15398</th>\n",
       "      <th>15399</th>\n",
       "      <th>15400</th>\n",
       "      <th>15401</th>\n",
       "    </tr>\n",
       "  </thead>\n",
       "  <tbody>\n",
       "    <tr>\n",
       "      <th>0</th>\n",
       "      <td>horsepower</td>\n",
       "      <td>cor</td>\n",
       "      <td>undesirable</td>\n",
       "      <td>complimentary</td>\n",
       "      <td>naaa</td>\n",
       "      <td>easypaisa</td>\n",
       "      <td>gife</td>\n",
       "      <td>importance</td>\n",
       "      <td>jerk</td>\n",
       "      <td>prize</td>\n",
       "      <td>...</td>\n",
       "      <td>execution</td>\n",
       "      <td>musicentertainment</td>\n",
       "      <td>uselessness</td>\n",
       "      <td>impassable</td>\n",
       "      <td>pausan</td>\n",
       "      <td>wabt</td>\n",
       "      <td>sindhi</td>\n",
       "      <td>batman</td>\n",
       "      <td>noodle</td>\n",
       "      <td>sticky</td>\n",
       "    </tr>\n",
       "  </tbody>\n",
       "</table>\n",
       "<p>1 rows × 15402 columns</p>\n",
       "</div>"
      ],
      "text/plain": [
       "        0     1            2              3     4          5     6      \\\n",
       "0  horsepower   cor  undesirable  complimentary  naaa  easypaisa  gife   \n",
       "\n",
       "        7     8      9      ...      15392               15393        15394  \\\n",
       "0  importance  jerk  prize  ...  execution  musicentertainment  uselessness   \n",
       "\n",
       "        15395   15396 15397   15398   15399   15400   15401  \n",
       "0  impassable  pausan  wabt  sindhi  batman  noodle  sticky  \n",
       "\n",
       "[1 rows x 15402 columns]"
      ]
     },
     "execution_count": 44,
     "metadata": {},
     "output_type": "execute_result"
    }
   ],
   "source": [
    "all_words = set()\n",
    "for data in X:\n",
    "    all_words.update(data)\n",
    "pd.DataFrame(all_words).T"
   ]
  },
  {
   "cell_type": "code",
   "execution_count": 45,
   "metadata": {},
   "outputs": [
    {
     "data": {
      "text/plain": [
       "15402"
      ]
     },
     "execution_count": 45,
     "metadata": {},
     "output_type": "execute_result"
    }
   ],
   "source": [
    "len(all_words)"
   ]
  },
  {
   "cell_type": "code",
   "execution_count": 46,
   "metadata": {},
   "outputs": [],
   "source": [
    "vectorizer = Word2Vec(X, vector_size=100, workers=4, min_count=3)\n",
    "seed = 42"
   ]
  },
  {
   "cell_type": "code",
   "execution_count": 47,
   "metadata": {},
   "outputs": [
    {
     "data": {
      "text/plain": [
       "array([-0.13068163, -0.15744853,  0.3068293 ,  0.8401219 , -1.0191028 ,\n",
       "       -0.29953632, -0.44151422,  0.50364906, -0.66136366, -0.01739978,\n",
       "        0.30604503,  0.5580704 , -0.6097056 ,  0.7410617 , -0.04736211,\n",
       "       -0.2282349 , -0.39821994, -0.01798098, -0.06747671,  0.7110215 ,\n",
       "        0.595442  , -0.03178932,  0.39236137, -0.03309065,  1.27652   ,\n",
       "        0.24887502,  1.0628345 ,  0.16255039, -0.3316421 ,  1.0591385 ,\n",
       "       -0.25832653, -0.38884467,  0.8533912 , -0.49473017,  0.3510067 ,\n",
       "        0.4516905 ,  0.34495455, -0.16691251,  0.743651  , -0.89890987,\n",
       "       -0.55687445,  0.8044548 ,  0.18774505,  0.02869305,  0.468393  ,\n",
       "       -0.321181  ,  0.07545455,  0.79491776,  1.3727415 , -0.4316848 ,\n",
       "        0.39078742,  0.53675383,  0.32134706, -0.8540782 ,  2.1821036 ,\n",
       "       -0.64138216, -0.1412169 , -0.37595445,  0.25054118, -0.2006729 ,\n",
       "       -0.3310095 ,  0.4063986 , -0.34725967, -0.9861636 , -0.72206813,\n",
       "        0.34082505,  0.44982532,  0.9402808 , -0.6398609 , -0.9497288 ,\n",
       "        0.08369227, -0.11319843, -0.67664295,  0.31239462,  0.39887187,\n",
       "        1.1819118 ,  0.7504678 ,  0.02970556, -0.45292252, -0.37822357,\n",
       "       -0.80008525,  0.7746233 , -0.37928447,  0.53201824, -0.19477662,\n",
       "       -0.6497823 ,  0.06150155,  0.8804811 ,  0.05268207,  1.1856769 ,\n",
       "        0.3478828 , -0.4025426 , -0.36641973, -0.01792306,  1.028073  ,\n",
       "        0.48663706, -0.05923693, -0.05142483,  0.4169604 , -0.49093994],\n",
       "      dtype=float32)"
      ]
     },
     "execution_count": 47,
     "metadata": {},
     "output_type": "execute_result"
    }
   ],
   "source": [
    "vectorizer.wv['app']"
   ]
  },
  {
   "cell_type": "code",
   "execution_count": 48,
   "metadata": {},
   "outputs": [],
   "source": [
    "def sentence_to_vector(sentence, model, vector_size):\n",
    "    # Filter out words that are not in the model vocabulary\n",
    "    words = [word for word in sentence if word in model.wv]\n",
    "    if not words:\n",
    "        return np.zeros(vector_size)  # Return a zero vector if no words in the model\n",
    "    return np.mean([model.wv[word] for word in words], axis=0)\n",
    "\n",
    "X_vectors = np.array([sentence_to_vector(sentence, vectorizer, 100) for sentence in X])"
   ]
  },
  {
   "cell_type": "code",
   "execution_count": 49,
   "metadata": {},
   "outputs": [],
   "source": [
    "X_train, X_test, Y_train, Y_test = train_test_split(X_vectors, Y.astype(np.int8), test_size=0.25, random_state=seed)"
   ]
  },
  {
   "cell_type": "markdown",
   "metadata": {},
   "source": [
    "# ML algs"
   ]
  },
  {
   "cell_type": "code",
   "execution_count": 50,
   "metadata": {},
   "outputs": [],
   "source": [
    "from sklearn.linear_model import LogisticRegression\n",
    "from sklearn.svm import LinearSVC\n",
    "\n",
    "from sklearn.metrics import precision_score, accuracy_score, recall_score, f1_score\n",
    "\n",
    "from sklearn.model_selection import GridSearchCV\n",
    "\n",
    "from sklearn.metrics import confusion_matrix, ConfusionMatrixDisplay"
   ]
  },
  {
   "cell_type": "code",
   "execution_count": 51,
   "metadata": {},
   "outputs": [],
   "source": [
    "def get_gridsearch_for_model(model, parameters : dict) -> GridSearchCV:\n",
    "    model_grid = GridSearchCV(\n",
    "        estimator=model,\n",
    "        param_grid=parameters,\n",
    "        scoring=['f1_micro', 'accuracy', 'recall_macro'],\n",
    "        refit='f1_micro',\n",
    "        cv=5,\n",
    "        verbose=2,\n",
    "        error_score=0,\n",
    "        n_jobs=8\n",
    "    )\n",
    "    return model_grid\n",
    "\n",
    "def print_grid_search_info(model):\n",
    "    print(f'Best estimator -> {model.best_estimator_}\\n\\\n",
    "Best Score -> {model.best_score_}\\n\\\n",
    "Best Parameters -> {model.best_params_}\\n\\\n",
    "Best index -> {model.best_index_}')\n",
    "\n",
    "\n",
    "def print_metrics(y_test, y_pred):\n",
    "    print(f'accuracy_score = {accuracy_score(y_test, y_pred)}\\nf1_micro = {f1_score(y_test, y_pred, average=\"micro\")}\\nrecall_score = {recall_score(y_test, y_pred, average=\"macro\")}\\nprecision_score = {precision_score(y_test, y_pred, average=\"macro\")}')\n",
    "\n",
    "\n",
    "def display_conf_matrix(y_true, y_pred, Y):\n",
    "    conf_matrix = confusion_matrix(y_true, y_pred)\n",
    "    cm_display = ConfusionMatrixDisplay(conf_matrix, display_labels=Y.unique())\n",
    "    cm_display.plot()\n",
    "    plt.show()"
   ]
  },
  {
   "cell_type": "code",
   "execution_count": 52,
   "metadata": {},
   "outputs": [
    {
     "name": "stdout",
     "output_type": "stream",
     "text": [
      "Fitting 5 folds for each of 60 candidates, totalling 300 fits\n",
      "[CV] END .....C=0.01, max_iter=100, penalty=l1, solver=lbfgs; total time=   0.0s\n",
      "[CV] END .....C=0.01, max_iter=100, penalty=l1, solver=lbfgs; total time=   0.0s\n",
      "[CV] END .....C=0.01, max_iter=100, penalty=l1, solver=lbfgs; total time=   0.0s\n",
      "[CV] END .....C=0.01, max_iter=100, penalty=l1, solver=lbfgs; total time=   0.0s\n",
      "[CV] END .....C=0.01, max_iter=100, penalty=l1, solver=lbfgs; total time=   0.0s\n",
      "[CV] END .....C=0.01, max_iter=100, penalty=l2, solver=lbfgs; total time=   0.5s\n",
      "[CV] END .....C=0.01, max_iter=100, penalty=l2, solver=lbfgs; total time=   0.4s\n",
      "[CV] END .....C=0.01, max_iter=100, penalty=l2, solver=lbfgs; total time=   0.5s\n",
      "[CV] END .C=0.01, max_iter=100, penalty=l1, solver=liblinear; total time=   0.7s\n",
      "[CV] END .C=0.01, max_iter=100, penalty=l1, solver=liblinear; total time=   0.7s\n",
      "[CV] END .C=0.01, max_iter=100, penalty=l1, solver=liblinear; total time=   0.7s\n",
      "[CV] END .....C=0.01, max_iter=100, penalty=l2, solver=lbfgs; total time=   0.4s\n",
      "[CV] END .....C=0.01, max_iter=100, penalty=l2, solver=lbfgs; total time=   0.5s\n",
      "[CV] END .....C=0.01, max_iter=500, penalty=l1, solver=lbfgs; total time=   0.0s\n",
      "[CV] END .....C=0.01, max_iter=500, penalty=l1, solver=lbfgs; total time=   0.0s\n",
      "[CV] END .C=0.01, max_iter=100, penalty=l1, solver=liblinear; total time=   1.0s\n",
      "[CV] END .....C=0.01, max_iter=500, penalty=l1, solver=lbfgs; total time=   0.0s\n",
      "[CV] END .....C=0.01, max_iter=500, penalty=l1, solver=lbfgs; total time=   0.0s\n",
      "[CV] END .C=0.01, max_iter=100, penalty=l1, solver=liblinear; total time=   1.1s\n",
      "[CV] END .....C=0.01, max_iter=500, penalty=l1, solver=lbfgs; total time=   0.0s\n",
      "[CV] END .C=0.01, max_iter=500, penalty=l1, solver=liblinear; total time=   0.6s\n",
      "[CV] END .C=0.01, max_iter=500, penalty=l1, solver=liblinear; total time=   0.7s\n",
      "[CV] END .C=0.01, max_iter=500, penalty=l1, solver=liblinear; total time=   0.7s\n",
      "[CV] END .C=0.01, max_iter=100, penalty=l2, solver=liblinear; total time=   1.4s\n",
      "[CV] END .C=0.01, max_iter=100, penalty=l2, solver=liblinear; total time=   1.5s\n",
      "[CV] END .....C=0.01, max_iter=500, penalty=l2, solver=lbfgs; total time=   0.4s\n",
      "[CV] END .C=0.01, max_iter=100, penalty=l2, solver=liblinear; total time=   1.7s\n",
      "[CV] END .....C=0.01, max_iter=500, penalty=l2, solver=lbfgs; total time=   0.4s\n",
      "[CV] END .C=0.01, max_iter=500, penalty=l1, solver=liblinear; total time=   0.7s\n",
      "[CV] END .C=0.01, max_iter=100, penalty=l2, solver=liblinear; total time=   1.7s\n",
      "[CV] END .C=0.01, max_iter=500, penalty=l1, solver=liblinear; total time=   0.7s\n",
      "[CV] END .C=0.01, max_iter=100, penalty=l2, solver=liblinear; total time=   1.6s\n",
      "[CV] END .....C=0.01, max_iter=500, penalty=l2, solver=lbfgs; total time=   0.4s\n",
      "[CV] END ....C=0.01, max_iter=1000, penalty=l1, solver=lbfgs; total time=   0.0s\n",
      "[CV] END ....C=0.01, max_iter=1000, penalty=l1, solver=lbfgs; total time=   0.0s\n",
      "[CV] END ....C=0.01, max_iter=1000, penalty=l1, solver=lbfgs; total time=   0.0s\n",
      "[CV] END .....C=0.01, max_iter=500, penalty=l2, solver=lbfgs; total time=   0.4s\n",
      "[CV] END ....C=0.01, max_iter=1000, penalty=l1, solver=lbfgs; total time=   0.0s\n",
      "[CV] END ....C=0.01, max_iter=1000, penalty=l1, solver=lbfgs; total time=   0.0s\n",
      "[CV] END .....C=0.01, max_iter=500, penalty=l2, solver=lbfgs; total time=   0.4s\n",
      "[CV] END C=0.01, max_iter=1000, penalty=l1, solver=liblinear; total time=   0.7s\n",
      "[CV] END C=0.01, max_iter=1000, penalty=l1, solver=liblinear; total time=   0.7s\n",
      "[CV] END C=0.01, max_iter=1000, penalty=l1, solver=liblinear; total time=   0.7s\n",
      "[CV] END .C=0.01, max_iter=500, penalty=l2, solver=liblinear; total time=   1.3s\n",
      "[CV] END ....C=0.01, max_iter=1000, penalty=l2, solver=lbfgs; total time=   0.4s\n",
      "[CV] END .C=0.01, max_iter=500, penalty=l2, solver=liblinear; total time=   1.5s\n",
      "[CV] END .C=0.01, max_iter=500, penalty=l2, solver=liblinear; total time=   1.5s\n",
      "[CV] END C=0.01, max_iter=1000, penalty=l1, solver=liblinear; total time=   0.6s\n",
      "[CV] END .C=0.01, max_iter=500, penalty=l2, solver=liblinear; total time=   1.6s\n",
      "[CV] END ....C=0.01, max_iter=1000, penalty=l2, solver=lbfgs; total time=   0.4s\n",
      "[CV] END C=0.01, max_iter=1000, penalty=l1, solver=liblinear; total time=   0.7s\n",
      "[CV] END .C=0.01, max_iter=500, penalty=l2, solver=liblinear; total time=   1.6s\n",
      "[CV] END ....C=0.01, max_iter=1000, penalty=l2, solver=lbfgs; total time=   0.4s\n",
      "[CV] END ......C=0.1, max_iter=100, penalty=l1, solver=lbfgs; total time=   0.0s\n",
      "[CV] END ......C=0.1, max_iter=100, penalty=l1, solver=lbfgs; total time=   0.0s\n",
      "[CV] END ......C=0.1, max_iter=100, penalty=l1, solver=lbfgs; total time=   0.0s\n",
      "[CV] END ......C=0.1, max_iter=100, penalty=l1, solver=lbfgs; total time=   0.0s\n",
      "[CV] END ....C=0.01, max_iter=1000, penalty=l2, solver=lbfgs; total time=   0.4s\n",
      "[CV] END ......C=0.1, max_iter=100, penalty=l1, solver=lbfgs; total time=   0.0s\n",
      "[CV] END ....C=0.01, max_iter=1000, penalty=l2, solver=lbfgs; total time=   0.4s\n",
      "[CV] END C=0.01, max_iter=1000, penalty=l2, solver=liblinear; total time=   1.3s\n",
      "[CV] END C=0.01, max_iter=1000, penalty=l2, solver=liblinear; total time=   1.6s\n",
      "[CV] END C=0.01, max_iter=1000, penalty=l2, solver=liblinear; total time=   1.6s\n",
      "[CV] END C=0.01, max_iter=1000, penalty=l2, solver=liblinear; total time=   1.6s\n",
      "[CV] END C=0.01, max_iter=1000, penalty=l2, solver=liblinear; total time=   1.6s\n",
      "[CV] END ......C=0.1, max_iter=100, penalty=l2, solver=lbfgs; total time=   0.7s\n",
      "[CV] END ......C=0.1, max_iter=100, penalty=l2, solver=lbfgs; total time=   0.7s\n",
      "[CV] END ......C=0.1, max_iter=100, penalty=l2, solver=lbfgs; total time=   0.8s\n",
      "[CV] END ......C=0.1, max_iter=100, penalty=l2, solver=lbfgs; total time=   0.8s\n",
      "[CV] END ......C=0.1, max_iter=100, penalty=l2, solver=lbfgs; total time=   0.8s\n",
      "[CV] END ..C=0.1, max_iter=100, penalty=l1, solver=liblinear; total time=   3.6s\n",
      "[CV] END ..C=0.1, max_iter=100, penalty=l2, solver=liblinear; total time=   2.5s\n",
      "[CV] END ..C=0.1, max_iter=100, penalty=l2, solver=liblinear; total time=   2.5s\n",
      "[CV] END ......C=0.1, max_iter=500, penalty=l1, solver=lbfgs; total time=   0.0s\n",
      "[CV] END ......C=0.1, max_iter=500, penalty=l1, solver=lbfgs; total time=   0.0s\n",
      "[CV] END ......C=0.1, max_iter=500, penalty=l1, solver=lbfgs; total time=   0.0s\n",
      "[CV] END ......C=0.1, max_iter=500, penalty=l1, solver=lbfgs; total time=   0.0s\n",
      "[CV] END ..C=0.1, max_iter=100, penalty=l1, solver=liblinear; total time=   5.4s\n",
      "[CV] END ..C=0.1, max_iter=100, penalty=l2, solver=liblinear; total time=   2.5s\n",
      "[CV] END ......C=0.1, max_iter=500, penalty=l1, solver=lbfgs; total time=   0.0s\n",
      "[CV] END ..C=0.1, max_iter=100, penalty=l1, solver=liblinear; total time=   4.5s\n",
      "[CV] END ..C=0.1, max_iter=100, penalty=l2, solver=liblinear; total time=   2.6s\n",
      "[CV] END ..C=0.1, max_iter=100, penalty=l1, solver=liblinear; total time=   5.1s\n",
      "[CV] END ..C=0.1, max_iter=100, penalty=l1, solver=liblinear; total time=   6.5s\n",
      "[CV] END ..C=0.1, max_iter=100, penalty=l2, solver=liblinear; total time=   2.3s\n",
      "[CV] END ......C=0.1, max_iter=500, penalty=l2, solver=lbfgs; total time=   0.7s\n",
      "[CV] END ......C=0.1, max_iter=500, penalty=l2, solver=lbfgs; total time=   0.8s\n",
      "[CV] END ......C=0.1, max_iter=500, penalty=l2, solver=lbfgs; total time=   0.7s\n",
      "[CV] END ......C=0.1, max_iter=500, penalty=l2, solver=lbfgs; total time=   0.8s\n",
      "[CV] END ......C=0.1, max_iter=500, penalty=l2, solver=lbfgs; total time=   0.8s\n",
      "[CV] END ..C=0.1, max_iter=500, penalty=l2, solver=liblinear; total time=   2.5s\n",
      "[CV] END ..C=0.1, max_iter=500, penalty=l2, solver=liblinear; total time=   2.5s\n",
      "[CV] END ..C=0.1, max_iter=500, penalty=l1, solver=liblinear; total time=   5.2s\n",
      "[CV] END .....C=0.1, max_iter=1000, penalty=l1, solver=lbfgs; total time=   0.0s\n",
      "[CV] END .....C=0.1, max_iter=1000, penalty=l1, solver=lbfgs; total time=   0.0s\n",
      "[CV] END .....C=0.1, max_iter=1000, penalty=l1, solver=lbfgs; total time=   0.0s\n",
      "[CV] END .....C=0.1, max_iter=1000, penalty=l1, solver=lbfgs; total time=   0.0s\n",
      "[CV] END ..C=0.1, max_iter=500, penalty=l2, solver=liblinear; total time=   2.5s\n",
      "[CV] END ..C=0.1, max_iter=500, penalty=l1, solver=liblinear; total time=   5.3s\n",
      "[CV] END .....C=0.1, max_iter=1000, penalty=l1, solver=lbfgs; total time=   0.0s\n",
      "[CV] END ..C=0.1, max_iter=500, penalty=l1, solver=liblinear; total time=   7.0s\n",
      "[CV] END ..C=0.1, max_iter=500, penalty=l2, solver=liblinear; total time=   2.5s\n",
      "[CV] END ..C=0.1, max_iter=500, penalty=l1, solver=liblinear; total time=   7.2s\n",
      "[CV] END ..C=0.1, max_iter=500, penalty=l2, solver=liblinear; total time=   2.3s\n",
      "[CV] END ..C=0.1, max_iter=500, penalty=l1, solver=liblinear; total time=   6.9s\n",
      "[CV] END .....C=0.1, max_iter=1000, penalty=l2, solver=lbfgs; total time=   0.7s\n",
      "[CV] END .....C=0.1, max_iter=1000, penalty=l2, solver=lbfgs; total time=   0.8s\n",
      "[CV] END .....C=0.1, max_iter=1000, penalty=l2, solver=lbfgs; total time=   0.7s\n",
      "[CV] END .....C=0.1, max_iter=1000, penalty=l2, solver=lbfgs; total time=   0.8s\n",
      "[CV] END .....C=0.1, max_iter=1000, penalty=l2, solver=lbfgs; total time=   0.8s\n",
      "[CV] END .C=0.1, max_iter=1000, penalty=l2, solver=liblinear; total time=   2.5s\n",
      "[CV] END .C=0.1, max_iter=1000, penalty=l1, solver=liblinear; total time=   5.7s\n",
      "[CV] END .C=0.1, max_iter=1000, penalty=l2, solver=liblinear; total time=   2.5s\n",
      "[CV] END ......C=0.5, max_iter=100, penalty=l1, solver=lbfgs; total time=   0.0s\n",
      "[CV] END ......C=0.5, max_iter=100, penalty=l1, solver=lbfgs; total time=   0.0s\n",
      "[CV] END ......C=0.5, max_iter=100, penalty=l1, solver=lbfgs; total time=   0.0s\n",
      "[CV] END ......C=0.5, max_iter=100, penalty=l1, solver=lbfgs; total time=   0.0s\n",
      "[CV] END ......C=0.5, max_iter=100, penalty=l1, solver=lbfgs; total time=   0.0s\n",
      "[CV] END .C=0.1, max_iter=1000, penalty=l2, solver=liblinear; total time=   2.5s\n",
      "[CV] END .C=0.1, max_iter=1000, penalty=l1, solver=liblinear; total time=   6.2s\n",
      "[CV] END .C=0.1, max_iter=1000, penalty=l1, solver=liblinear; total time=   7.2s\n",
      "[CV] END .C=0.1, max_iter=1000, penalty=l1, solver=liblinear; total time=   5.6s\n",
      "[CV] END .C=0.1, max_iter=1000, penalty=l2, solver=liblinear; total time=   4.4s\n",
      "[CV] END .C=0.1, max_iter=1000, penalty=l2, solver=liblinear; total time=   4.7s\n",
      "[CV] END .C=0.1, max_iter=1000, penalty=l1, solver=liblinear; total time=   8.6s\n",
      "[CV] END ......C=0.5, max_iter=100, penalty=l2, solver=lbfgs; total time=   1.5s\n",
      "[CV] END ......C=0.5, max_iter=100, penalty=l2, solver=lbfgs; total time=   1.7s\n"
     ]
    },
    {
     "name": "stderr",
     "output_type": "stream",
     "text": [
      "/home/habkaffee/programming/nlp/nlp_classification/.venv/lib/python3.12/site-packages/sklearn/linear_model/_logistic.py:469: ConvergenceWarning: lbfgs failed to converge (status=1):\n",
      "STOP: TOTAL NO. of ITERATIONS REACHED LIMIT.\n",
      "\n",
      "Increase the number of iterations (max_iter) or scale the data as shown in:\n",
      "    https://scikit-learn.org/stable/modules/preprocessing.html\n",
      "Please also refer to the documentation for alternative solver options:\n",
      "    https://scikit-learn.org/stable/modules/linear_model.html#logistic-regression\n",
      "  n_iter_i = _check_optimize_result(\n"
     ]
    },
    {
     "name": "stdout",
     "output_type": "stream",
     "text": [
      "[CV] END ......C=0.5, max_iter=100, penalty=l2, solver=lbfgs; total time=   1.6s\n",
      "[CV] END ......C=0.5, max_iter=100, penalty=l2, solver=lbfgs; total time=   1.3s\n",
      "[CV] END ......C=0.5, max_iter=100, penalty=l2, solver=lbfgs; total time=   1.5s\n",
      "[CV] END ..C=0.5, max_iter=100, penalty=l2, solver=liblinear; total time=   3.7s\n",
      "[CV] END ..C=0.5, max_iter=100, penalty=l2, solver=liblinear; total time=   3.9s\n",
      "[CV] END ..C=0.5, max_iter=100, penalty=l2, solver=liblinear; total time=   4.0s\n",
      "[CV] END ......C=0.5, max_iter=500, penalty=l1, solver=lbfgs; total time=   0.0s\n",
      "[CV] END ......C=0.5, max_iter=500, penalty=l1, solver=lbfgs; total time=   0.0s\n",
      "[CV] END ......C=0.5, max_iter=500, penalty=l1, solver=lbfgs; total time=   0.0s\n",
      "[CV] END ......C=0.5, max_iter=500, penalty=l1, solver=lbfgs; total time=   0.0s\n",
      "[CV] END ......C=0.5, max_iter=500, penalty=l1, solver=lbfgs; total time=   0.0s\n",
      "[CV] END ..C=0.5, max_iter=100, penalty=l2, solver=liblinear; total time=   3.8s\n",
      "[CV] END ..C=0.5, max_iter=100, penalty=l2, solver=liblinear; total time=   3.7s\n",
      "[CV] END ..C=0.5, max_iter=100, penalty=l1, solver=liblinear; total time=  19.8s\n",
      "[CV] END ..C=0.5, max_iter=100, penalty=l1, solver=liblinear; total time=  25.3s\n",
      "[CV] END ..C=0.5, max_iter=100, penalty=l1, solver=liblinear; total time=  27.2s\n",
      "[CV] END ..C=0.5, max_iter=100, penalty=l1, solver=liblinear; total time=  28.3s\n",
      "[CV] END ..C=0.5, max_iter=100, penalty=l1, solver=liblinear; total time=  27.9s\n",
      "[CV] END ......C=0.5, max_iter=500, penalty=l2, solver=lbfgs; total time=   1.3s\n",
      "[CV] END ......C=0.5, max_iter=500, penalty=l2, solver=lbfgs; total time=   1.6s\n",
      "[CV] END ......C=0.5, max_iter=500, penalty=l2, solver=lbfgs; total time=   1.4s\n",
      "[CV] END ......C=0.5, max_iter=500, penalty=l2, solver=lbfgs; total time=   1.4s\n",
      "[CV] END ......C=0.5, max_iter=500, penalty=l2, solver=lbfgs; total time=   1.6s\n",
      "[CV] END ..C=0.5, max_iter=500, penalty=l2, solver=liblinear; total time=   3.9s\n",
      "[CV] END ..C=0.5, max_iter=500, penalty=l2, solver=liblinear; total time=   4.1s\n",
      "[CV] END ..C=0.5, max_iter=500, penalty=l2, solver=liblinear; total time=   4.2s\n",
      "[CV] END .....C=0.5, max_iter=1000, penalty=l1, solver=lbfgs; total time=   0.0s\n",
      "[CV] END .....C=0.5, max_iter=1000, penalty=l1, solver=lbfgs; total time=   0.0s\n",
      "[CV] END .....C=0.5, max_iter=1000, penalty=l1, solver=lbfgs; total time=   0.0s\n",
      "[CV] END .....C=0.5, max_iter=1000, penalty=l1, solver=lbfgs; total time=   0.0s\n",
      "[CV] END .....C=0.5, max_iter=1000, penalty=l1, solver=lbfgs; total time=   0.0s\n",
      "[CV] END ..C=0.5, max_iter=500, penalty=l2, solver=liblinear; total time=   6.3s\n",
      "[CV] END ..C=0.5, max_iter=500, penalty=l2, solver=liblinear; total time=   6.2s\n",
      "[CV] END ..C=0.5, max_iter=500, penalty=l1, solver=liblinear; total time=  30.6s\n",
      "[CV] END ..C=0.5, max_iter=500, penalty=l1, solver=liblinear; total time=  29.7s\n",
      "[CV] END ..C=0.5, max_iter=500, penalty=l1, solver=liblinear; total time=  34.0s\n",
      "[CV] END .....C=0.5, max_iter=1000, penalty=l2, solver=lbfgs; total time=   1.5s\n",
      "[CV] END .....C=0.5, max_iter=1000, penalty=l2, solver=lbfgs; total time=   1.3s\n",
      "[CV] END ..C=0.5, max_iter=500, penalty=l1, solver=liblinear; total time=  29.0s\n",
      "[CV] END .....C=0.5, max_iter=1000, penalty=l2, solver=lbfgs; total time=   1.3s\n",
      "[CV] END .....C=0.5, max_iter=1000, penalty=l2, solver=lbfgs; total time=   1.4s\n",
      "[CV] END .....C=0.5, max_iter=1000, penalty=l2, solver=lbfgs; total time=   1.2s\n",
      "[CV] END .C=0.5, max_iter=1000, penalty=l2, solver=liblinear; total time=   3.5s\n",
      "[CV] END .C=0.5, max_iter=1000, penalty=l2, solver=liblinear; total time=   3.8s\n",
      "[CV] END ..C=0.5, max_iter=500, penalty=l1, solver=liblinear; total time=  30.6s\n",
      "[CV] END .C=0.5, max_iter=1000, penalty=l2, solver=liblinear; total time=   3.7s\n",
      "[CV] END ......C=1.0, max_iter=100, penalty=l1, solver=lbfgs; total time=   0.0s\n",
      "[CV] END ......C=1.0, max_iter=100, penalty=l1, solver=lbfgs; total time=   0.0s\n",
      "[CV] END ......C=1.0, max_iter=100, penalty=l1, solver=lbfgs; total time=   0.0s\n",
      "[CV] END ......C=1.0, max_iter=100, penalty=l1, solver=lbfgs; total time=   0.0s\n",
      "[CV] END ......C=1.0, max_iter=100, penalty=l1, solver=lbfgs; total time=   0.0s\n",
      "[CV] END .C=0.5, max_iter=1000, penalty=l2, solver=liblinear; total time=   3.5s\n",
      "[CV] END .C=0.5, max_iter=1000, penalty=l2, solver=liblinear; total time=   3.5s\n",
      "[CV] END .C=0.5, max_iter=1000, penalty=l1, solver=liblinear; total time=  26.1s\n",
      "[CV] END .C=0.5, max_iter=1000, penalty=l1, solver=liblinear; total time=  32.7s\n",
      "[CV] END .C=0.5, max_iter=1000, penalty=l1, solver=liblinear; total time=  24.6s\n",
      "[CV] END .C=0.5, max_iter=1000, penalty=l1, solver=liblinear; total time=  28.1s\n"
     ]
    },
    {
     "name": "stderr",
     "output_type": "stream",
     "text": [
      "/home/habkaffee/programming/nlp/nlp_classification/.venv/lib/python3.12/site-packages/sklearn/linear_model/_logistic.py:469: ConvergenceWarning: lbfgs failed to converge (status=1):\n",
      "STOP: TOTAL NO. of ITERATIONS REACHED LIMIT.\n",
      "\n",
      "Increase the number of iterations (max_iter) or scale the data as shown in:\n",
      "    https://scikit-learn.org/stable/modules/preprocessing.html\n",
      "Please also refer to the documentation for alternative solver options:\n",
      "    https://scikit-learn.org/stable/modules/linear_model.html#logistic-regression\n",
      "  n_iter_i = _check_optimize_result(\n"
     ]
    },
    {
     "name": "stdout",
     "output_type": "stream",
     "text": [
      "[CV] END ......C=1.0, max_iter=100, penalty=l2, solver=lbfgs; total time=   1.4s\n"
     ]
    },
    {
     "name": "stderr",
     "output_type": "stream",
     "text": [
      "/home/habkaffee/programming/nlp/nlp_classification/.venv/lib/python3.12/site-packages/sklearn/linear_model/_logistic.py:469: ConvergenceWarning: lbfgs failed to converge (status=1):\n",
      "STOP: TOTAL NO. of ITERATIONS REACHED LIMIT.\n",
      "\n",
      "Increase the number of iterations (max_iter) or scale the data as shown in:\n",
      "    https://scikit-learn.org/stable/modules/preprocessing.html\n",
      "Please also refer to the documentation for alternative solver options:\n",
      "    https://scikit-learn.org/stable/modules/linear_model.html#logistic-regression\n",
      "  n_iter_i = _check_optimize_result(\n"
     ]
    },
    {
     "name": "stdout",
     "output_type": "stream",
     "text": [
      "[CV] END ......C=1.0, max_iter=100, penalty=l2, solver=lbfgs; total time=   1.5s\n"
     ]
    },
    {
     "name": "stderr",
     "output_type": "stream",
     "text": [
      "/home/habkaffee/programming/nlp/nlp_classification/.venv/lib/python3.12/site-packages/sklearn/linear_model/_logistic.py:469: ConvergenceWarning: lbfgs failed to converge (status=1):\n",
      "STOP: TOTAL NO. of ITERATIONS REACHED LIMIT.\n",
      "\n",
      "Increase the number of iterations (max_iter) or scale the data as shown in:\n",
      "    https://scikit-learn.org/stable/modules/preprocessing.html\n",
      "Please also refer to the documentation for alternative solver options:\n",
      "    https://scikit-learn.org/stable/modules/linear_model.html#logistic-regression\n",
      "  n_iter_i = _check_optimize_result(\n"
     ]
    },
    {
     "name": "stdout",
     "output_type": "stream",
     "text": [
      "[CV] END ......C=1.0, max_iter=100, penalty=l2, solver=lbfgs; total time=   4.1s\n"
     ]
    },
    {
     "name": "stderr",
     "output_type": "stream",
     "text": [
      "/home/habkaffee/programming/nlp/nlp_classification/.venv/lib/python3.12/site-packages/sklearn/linear_model/_logistic.py:469: ConvergenceWarning: lbfgs failed to converge (status=1):\n",
      "STOP: TOTAL NO. of ITERATIONS REACHED LIMIT.\n",
      "\n",
      "Increase the number of iterations (max_iter) or scale the data as shown in:\n",
      "    https://scikit-learn.org/stable/modules/preprocessing.html\n",
      "Please also refer to the documentation for alternative solver options:\n",
      "    https://scikit-learn.org/stable/modules/linear_model.html#logistic-regression\n",
      "  n_iter_i = _check_optimize_result(\n"
     ]
    },
    {
     "name": "stdout",
     "output_type": "stream",
     "text": [
      "[CV] END ......C=1.0, max_iter=100, penalty=l2, solver=lbfgs; total time=   4.0s\n",
      "[CV] END .C=0.5, max_iter=1000, penalty=l1, solver=liblinear; total time=  30.5s\n",
      "[CV] END ......C=1.0, max_iter=100, penalty=l2, solver=lbfgs; total time=   1.4s\n",
      "[CV] END ..C=1.0, max_iter=100, penalty=l2, solver=liblinear; total time=   5.1s\n",
      "[CV] END ..C=1.0, max_iter=100, penalty=l2, solver=liblinear; total time=   5.4s\n",
      "[CV] END ..C=1.0, max_iter=100, penalty=l2, solver=liblinear; total time=   5.5s\n",
      "[CV] END ......C=1.0, max_iter=500, penalty=l1, solver=lbfgs; total time=   0.0s\n",
      "[CV] END ......C=1.0, max_iter=500, penalty=l1, solver=lbfgs; total time=   0.0s\n",
      "[CV] END ......C=1.0, max_iter=500, penalty=l1, solver=lbfgs; total time=   0.0s\n",
      "[CV] END ......C=1.0, max_iter=500, penalty=l1, solver=lbfgs; total time=   0.0s\n",
      "[CV] END ......C=1.0, max_iter=500, penalty=l1, solver=lbfgs; total time=   0.0s\n",
      "[CV] END ..C=1.0, max_iter=100, penalty=l2, solver=liblinear; total time=   5.2s\n",
      "[CV] END ..C=1.0, max_iter=100, penalty=l2, solver=liblinear; total time=   4.9s\n",
      "[CV] END ..C=1.0, max_iter=100, penalty=l1, solver=liblinear; total time=  41.5s\n",
      "[CV] END ..C=1.0, max_iter=100, penalty=l1, solver=liblinear; total time=  46.6s\n",
      "[CV] END ..C=1.0, max_iter=100, penalty=l1, solver=liblinear; total time=  47.2s\n",
      "[CV] END ......C=1.0, max_iter=500, penalty=l2, solver=lbfgs; total time=   3.9s\n",
      "[CV] END ......C=1.0, max_iter=500, penalty=l2, solver=lbfgs; total time=   1.6s\n",
      "[CV] END ......C=1.0, max_iter=500, penalty=l2, solver=lbfgs; total time=   1.6s\n",
      "[CV] END ......C=1.0, max_iter=500, penalty=l2, solver=lbfgs; total time=   1.7s\n",
      "[CV] END ..C=1.0, max_iter=100, penalty=l1, solver=liblinear; total time=  46.8s\n",
      "[CV] END ......C=1.0, max_iter=500, penalty=l2, solver=lbfgs; total time=   1.4s\n",
      "[CV] END ..C=1.0, max_iter=100, penalty=l1, solver=liblinear; total time=  47.4s\n",
      "[CV] END ..C=1.0, max_iter=500, penalty=l2, solver=liblinear; total time=   4.7s\n",
      "[CV] END ..C=1.0, max_iter=500, penalty=l2, solver=liblinear; total time=   4.9s\n",
      "[CV] END ..C=1.0, max_iter=500, penalty=l2, solver=liblinear; total time=   4.9s\n",
      "[CV] END .....C=1.0, max_iter=1000, penalty=l1, solver=lbfgs; total time=   0.0s\n",
      "[CV] END .....C=1.0, max_iter=1000, penalty=l1, solver=lbfgs; total time=   0.0s\n",
      "[CV] END .....C=1.0, max_iter=1000, penalty=l1, solver=lbfgs; total time=   0.0s\n",
      "[CV] END .....C=1.0, max_iter=1000, penalty=l1, solver=lbfgs; total time=   0.0s\n",
      "[CV] END .....C=1.0, max_iter=1000, penalty=l1, solver=lbfgs; total time=   0.0s\n",
      "[CV] END ..C=1.0, max_iter=500, penalty=l2, solver=liblinear; total time=   4.8s\n",
      "[CV] END ..C=1.0, max_iter=500, penalty=l2, solver=liblinear; total time=   4.4s\n",
      "[CV] END ..C=1.0, max_iter=500, penalty=l1, solver=liblinear; total time=  42.5s\n",
      "[CV] END ..C=1.0, max_iter=500, penalty=l1, solver=liblinear; total time=  42.3s\n",
      "[CV] END ..C=1.0, max_iter=500, penalty=l1, solver=liblinear; total time=  48.3s\n",
      "[CV] END .....C=1.0, max_iter=1000, penalty=l2, solver=lbfgs; total time=   1.2s\n",
      "[CV] END .....C=1.0, max_iter=1000, penalty=l2, solver=lbfgs; total time=   1.4s\n",
      "[CV] END .....C=1.0, max_iter=1000, penalty=l2, solver=lbfgs; total time=   1.3s\n",
      "[CV] END .....C=1.0, max_iter=1000, penalty=l2, solver=lbfgs; total time=   1.4s\n",
      "[CV] END .....C=1.0, max_iter=1000, penalty=l2, solver=lbfgs; total time=   1.2s\n",
      "[CV] END .C=1.0, max_iter=1000, penalty=l2, solver=liblinear; total time=   4.1s\n",
      "[CV] END ..C=1.0, max_iter=500, penalty=l1, solver=liblinear; total time=  44.8s\n",
      "[CV] END .C=1.0, max_iter=1000, penalty=l2, solver=liblinear; total time=   7.1s\n",
      "[CV] END ..C=1.0, max_iter=500, penalty=l1, solver=liblinear; total time=  46.0s\n",
      "[CV] END .C=1.0, max_iter=1000, penalty=l2, solver=liblinear; total time=   4.7s\n",
      "[CV] END .....C=10.0, max_iter=100, penalty=l1, solver=lbfgs; total time=   0.0s\n",
      "[CV] END .....C=10.0, max_iter=100, penalty=l1, solver=lbfgs; total time=   0.0s\n",
      "[CV] END .....C=10.0, max_iter=100, penalty=l1, solver=lbfgs; total time=   0.0s\n",
      "[CV] END .....C=10.0, max_iter=100, penalty=l1, solver=lbfgs; total time=   0.0s\n",
      "[CV] END .....C=10.0, max_iter=100, penalty=l1, solver=lbfgs; total time=   0.0s\n",
      "[CV] END .C=1.0, max_iter=1000, penalty=l2, solver=liblinear; total time=   4.9s\n",
      "[CV] END .C=1.0, max_iter=1000, penalty=l2, solver=liblinear; total time=   4.4s\n",
      "[CV] END .C=1.0, max_iter=1000, penalty=l1, solver=liblinear; total time=  39.6s\n",
      "[CV] END .C=1.0, max_iter=1000, penalty=l1, solver=liblinear; total time=  43.6s\n",
      "[CV] END .C=1.0, max_iter=1000, penalty=l1, solver=liblinear; total time=  38.8s\n",
      "[CV] END .C=1.0, max_iter=1000, penalty=l1, solver=liblinear; total time=  42.8s\n"
     ]
    },
    {
     "name": "stderr",
     "output_type": "stream",
     "text": [
      "/home/habkaffee/programming/nlp/nlp_classification/.venv/lib/python3.12/site-packages/sklearn/linear_model/_logistic.py:469: ConvergenceWarning: lbfgs failed to converge (status=1):\n",
      "STOP: TOTAL NO. of ITERATIONS REACHED LIMIT.\n",
      "\n",
      "Increase the number of iterations (max_iter) or scale the data as shown in:\n",
      "    https://scikit-learn.org/stable/modules/preprocessing.html\n",
      "Please also refer to the documentation for alternative solver options:\n",
      "    https://scikit-learn.org/stable/modules/linear_model.html#logistic-regression\n",
      "  n_iter_i = _check_optimize_result(\n"
     ]
    },
    {
     "name": "stdout",
     "output_type": "stream",
     "text": [
      "[CV] END .....C=10.0, max_iter=100, penalty=l2, solver=lbfgs; total time=   1.2s\n"
     ]
    },
    {
     "name": "stderr",
     "output_type": "stream",
     "text": [
      "/home/habkaffee/programming/nlp/nlp_classification/.venv/lib/python3.12/site-packages/sklearn/linear_model/_logistic.py:469: ConvergenceWarning: lbfgs failed to converge (status=1):\n",
      "STOP: TOTAL NO. of ITERATIONS REACHED LIMIT.\n",
      "\n",
      "Increase the number of iterations (max_iter) or scale the data as shown in:\n",
      "    https://scikit-learn.org/stable/modules/preprocessing.html\n",
      "Please also refer to the documentation for alternative solver options:\n",
      "    https://scikit-learn.org/stable/modules/linear_model.html#logistic-regression\n",
      "  n_iter_i = _check_optimize_result(\n"
     ]
    },
    {
     "name": "stdout",
     "output_type": "stream",
     "text": [
      "[CV] END .....C=10.0, max_iter=100, penalty=l2, solver=lbfgs; total time=   1.3s\n"
     ]
    },
    {
     "name": "stderr",
     "output_type": "stream",
     "text": [
      "/home/habkaffee/programming/nlp/nlp_classification/.venv/lib/python3.12/site-packages/sklearn/linear_model/_logistic.py:469: ConvergenceWarning: lbfgs failed to converge (status=1):\n",
      "STOP: TOTAL NO. of ITERATIONS REACHED LIMIT.\n",
      "\n",
      "Increase the number of iterations (max_iter) or scale the data as shown in:\n",
      "    https://scikit-learn.org/stable/modules/preprocessing.html\n",
      "Please also refer to the documentation for alternative solver options:\n",
      "    https://scikit-learn.org/stable/modules/linear_model.html#logistic-regression\n",
      "  n_iter_i = _check_optimize_result(\n"
     ]
    },
    {
     "name": "stdout",
     "output_type": "stream",
     "text": [
      "[CV] END .....C=10.0, max_iter=100, penalty=l2, solver=lbfgs; total time=   1.3s\n",
      "[CV] END .C=1.0, max_iter=1000, penalty=l1, solver=liblinear; total time=  41.7s\n"
     ]
    },
    {
     "name": "stderr",
     "output_type": "stream",
     "text": [
      "/home/habkaffee/programming/nlp/nlp_classification/.venv/lib/python3.12/site-packages/sklearn/linear_model/_logistic.py:469: ConvergenceWarning: lbfgs failed to converge (status=1):\n",
      "STOP: TOTAL NO. of ITERATIONS REACHED LIMIT.\n",
      "\n",
      "Increase the number of iterations (max_iter) or scale the data as shown in:\n",
      "    https://scikit-learn.org/stable/modules/preprocessing.html\n",
      "Please also refer to the documentation for alternative solver options:\n",
      "    https://scikit-learn.org/stable/modules/linear_model.html#logistic-regression\n",
      "  n_iter_i = _check_optimize_result(\n"
     ]
    },
    {
     "name": "stdout",
     "output_type": "stream",
     "text": [
      "[CV] END .....C=10.0, max_iter=100, penalty=l2, solver=lbfgs; total time=   1.4s\n"
     ]
    },
    {
     "name": "stderr",
     "output_type": "stream",
     "text": [
      "/home/habkaffee/programming/nlp/nlp_classification/.venv/lib/python3.12/site-packages/sklearn/linear_model/_logistic.py:469: ConvergenceWarning: lbfgs failed to converge (status=1):\n",
      "STOP: TOTAL NO. of ITERATIONS REACHED LIMIT.\n",
      "\n",
      "Increase the number of iterations (max_iter) or scale the data as shown in:\n",
      "    https://scikit-learn.org/stable/modules/preprocessing.html\n",
      "Please also refer to the documentation for alternative solver options:\n",
      "    https://scikit-learn.org/stable/modules/linear_model.html#logistic-regression\n",
      "  n_iter_i = _check_optimize_result(\n"
     ]
    },
    {
     "name": "stdout",
     "output_type": "stream",
     "text": [
      "[CV] END .....C=10.0, max_iter=100, penalty=l2, solver=lbfgs; total time=   1.3s\n",
      "[CV] END .C=10.0, max_iter=100, penalty=l2, solver=liblinear; total time=  11.6s\n",
      "[CV] END .C=10.0, max_iter=100, penalty=l2, solver=liblinear; total time=  13.5s\n",
      "[CV] END .C=10.0, max_iter=100, penalty=l2, solver=liblinear; total time=  14.0s\n",
      "[CV] END .....C=10.0, max_iter=500, penalty=l1, solver=lbfgs; total time=   0.0s\n",
      "[CV] END .....C=10.0, max_iter=500, penalty=l1, solver=lbfgs; total time=   0.0s\n",
      "[CV] END .....C=10.0, max_iter=500, penalty=l1, solver=lbfgs; total time=   0.0s\n",
      "[CV] END .....C=10.0, max_iter=500, penalty=l1, solver=lbfgs; total time=   0.0s\n",
      "[CV] END .....C=10.0, max_iter=500, penalty=l1, solver=lbfgs; total time=   0.0s\n",
      "[CV] END .C=10.0, max_iter=100, penalty=l2, solver=liblinear; total time=   9.4s\n",
      "[CV] END .C=10.0, max_iter=100, penalty=l2, solver=liblinear; total time=   8.5s\n",
      "[CV] END .C=10.0, max_iter=100, penalty=l1, solver=liblinear; total time= 1.8min\n",
      "[CV] END .C=10.0, max_iter=100, penalty=l1, solver=liblinear; total time= 1.9min\n",
      "[CV] END .C=10.0, max_iter=100, penalty=l1, solver=liblinear; total time= 2.1min\n",
      "[CV] END .....C=10.0, max_iter=500, penalty=l2, solver=lbfgs; total time=   2.7s\n",
      "[CV] END .....C=10.0, max_iter=500, penalty=l2, solver=lbfgs; total time=   2.8s\n",
      "[CV] END .....C=10.0, max_iter=500, penalty=l2, solver=lbfgs; total time=   4.9s\n",
      "[CV] END .....C=10.0, max_iter=500, penalty=l2, solver=lbfgs; total time=   2.4s\n",
      "[CV] END .C=10.0, max_iter=100, penalty=l1, solver=liblinear; total time= 2.1min\n",
      "[CV] END .....C=10.0, max_iter=500, penalty=l2, solver=lbfgs; total time=   2.7s\n",
      "[CV] END .C=10.0, max_iter=500, penalty=l1, solver=liblinear; total time= 1.7min\n",
      "[CV] END .C=10.0, max_iter=500, penalty=l2, solver=liblinear; total time=  10.9s\n",
      "[CV] END .C=10.0, max_iter=500, penalty=l2, solver=liblinear; total time=  10.5s\n",
      "[CV] END .C=10.0, max_iter=100, penalty=l1, solver=liblinear; total time= 2.3min\n",
      "[CV] END ....C=10.0, max_iter=1000, penalty=l1, solver=lbfgs; total time=   0.0s\n",
      "[CV] END ....C=10.0, max_iter=1000, penalty=l1, solver=lbfgs; total time=   0.0s\n",
      "[CV] END ....C=10.0, max_iter=1000, penalty=l1, solver=lbfgs; total time=   0.0s\n",
      "[CV] END ....C=10.0, max_iter=1000, penalty=l1, solver=lbfgs; total time=   0.0s\n",
      "[CV] END ....C=10.0, max_iter=1000, penalty=l1, solver=lbfgs; total time=   0.0s\n",
      "[CV] END .C=10.0, max_iter=500, penalty=l2, solver=liblinear; total time=   8.8s\n",
      "[CV] END .C=10.0, max_iter=500, penalty=l2, solver=liblinear; total time=   9.7s\n",
      "[CV] END .C=10.0, max_iter=500, penalty=l2, solver=liblinear; total time=   8.9s\n",
      "[CV] END .C=10.0, max_iter=500, penalty=l1, solver=liblinear; total time= 2.1min\n",
      "[CV] END .C=10.0, max_iter=500, penalty=l1, solver=liblinear; total time= 2.1min\n",
      "[CV] END ....C=10.0, max_iter=1000, penalty=l2, solver=lbfgs; total time=   2.6s\n",
      "[CV] END ....C=10.0, max_iter=1000, penalty=l2, solver=lbfgs; total time=   2.7s\n",
      "[CV] END ....C=10.0, max_iter=1000, penalty=l2, solver=lbfgs; total time=   2.4s\n",
      "[CV] END ....C=10.0, max_iter=1000, penalty=l2, solver=lbfgs; total time=   2.2s\n",
      "[CV] END ....C=10.0, max_iter=1000, penalty=l2, solver=lbfgs; total time=   2.4s\n",
      "[CV] END C=10.0, max_iter=1000, penalty=l2, solver=liblinear; total time=  10.1s\n",
      "[CV] END C=10.0, max_iter=1000, penalty=l2, solver=liblinear; total time=  12.5s\n",
      "[CV] END C=10.0, max_iter=1000, penalty=l2, solver=liblinear; total time=   8.5s\n",
      "[CV] END C=10.0, max_iter=1000, penalty=l2, solver=liblinear; total time=   8.7s\n",
      "[CV] END C=10.0, max_iter=1000, penalty=l2, solver=liblinear; total time=   8.3s\n",
      "[CV] END .C=10.0, max_iter=500, penalty=l1, solver=liblinear; total time= 2.0min\n",
      "[CV] END .C=10.0, max_iter=500, penalty=l1, solver=liblinear; total time= 2.0min\n",
      "[CV] END C=10.0, max_iter=1000, penalty=l1, solver=liblinear; total time= 1.6min\n",
      "[CV] END C=10.0, max_iter=1000, penalty=l1, solver=liblinear; total time= 1.7min\n",
      "[CV] END C=10.0, max_iter=1000, penalty=l1, solver=liblinear; total time= 1.8min\n",
      "[CV] END C=10.0, max_iter=1000, penalty=l1, solver=liblinear; total time= 1.7min\n",
      "[CV] END C=10.0, max_iter=1000, penalty=l1, solver=liblinear; total time= 1.8min\n"
     ]
    },
    {
     "name": "stderr",
     "output_type": "stream",
     "text": [
      "/home/habkaffee/programming/nlp/nlp_classification/.venv/lib/python3.12/site-packages/sklearn/model_selection/_validation.py:540: FitFailedWarning: \n",
      "75 fits failed out of a total of 300.\n",
      "The score on these train-test partitions for these parameters will be set to 0.\n",
      "If these failures are not expected, you can try to debug them by setting error_score='raise'.\n",
      "\n",
      "Below are more details about the failures:\n",
      "--------------------------------------------------------------------------------\n",
      "75 fits failed with the following error:\n",
      "Traceback (most recent call last):\n",
      "  File \"/home/habkaffee/programming/nlp/nlp_classification/.venv/lib/python3.12/site-packages/sklearn/model_selection/_validation.py\", line 888, in _fit_and_score\n",
      "    estimator.fit(X_train, y_train, **fit_params)\n",
      "  File \"/home/habkaffee/programming/nlp/nlp_classification/.venv/lib/python3.12/site-packages/sklearn/base.py\", line 1473, in wrapper\n",
      "    return fit_method(estimator, *args, **kwargs)\n",
      "           ^^^^^^^^^^^^^^^^^^^^^^^^^^^^^^^^^^^^^^\n",
      "  File \"/home/habkaffee/programming/nlp/nlp_classification/.venv/lib/python3.12/site-packages/sklearn/linear_model/_logistic.py\", line 1194, in fit\n",
      "    solver = _check_solver(self.solver, self.penalty, self.dual)\n",
      "             ^^^^^^^^^^^^^^^^^^^^^^^^^^^^^^^^^^^^^^^^^^^^^^^^^^^\n",
      "  File \"/home/habkaffee/programming/nlp/nlp_classification/.venv/lib/python3.12/site-packages/sklearn/linear_model/_logistic.py\", line 67, in _check_solver\n",
      "    raise ValueError(\n",
      "ValueError: Solver lbfgs supports only 'l2' or None penalties, got l1 penalty.\n",
      "\n",
      "  warnings.warn(some_fits_failed_message, FitFailedWarning)\n"
     ]
    },
    {
     "name": "stdout",
     "output_type": "stream",
     "text": [
      "Best estimator -> LogisticRegression(C=10.0, solver='liblinear')\n",
      "Best Score -> 0.860887656033287\n",
      "Best Parameters -> {'C': 10.0, 'max_iter': 100, 'penalty': 'l2', 'solver': 'liblinear'}\n",
      "Best index -> 51\n"
     ]
    }
   ],
   "source": [
    "parameters_logreg = {\n",
    "    'penalty': ['l1', 'l2'],\n",
    "    'C': [0.01, 0.1, 0.5, 1.0, 10.0],\n",
    "    'solver': ['lbfgs', 'liblinear'],\n",
    "    'max_iter': [100, 500, 1000]\n",
    "}\n",
    "\n",
    "grid_log = get_gridsearch_for_model(LogisticRegression(), parameters_logreg)\n",
    "\n",
    "grid_log.fit(X_train, Y_train)\n",
    "print_grid_search_info(grid_log)"
   ]
  },
  {
   "cell_type": "code",
   "execution_count": 53,
   "metadata": {},
   "outputs": [
    {
     "name": "stdout",
     "output_type": "stream",
     "text": [
      "accuracy_score = 0.8587001747524341\n",
      "f1_micro = 0.8587001747524341\n",
      "recall_score = 0.8520170196281356\n",
      "precision_score = 0.8583366650979308\n"
     ]
    }
   ],
   "source": [
    "Y_pred_logreg = grid_log.predict(X_test)\n",
    "print_metrics(Y_test, Y_pred_logreg)\n",
    "# save_model('./models/log_reg_trash.pkl', grid_log)"
   ]
  },
  {
   "cell_type": "code",
   "execution_count": 54,
   "metadata": {},
   "outputs": [
    {
     "name": "stdout",
     "output_type": "stream",
     "text": [
      "Fitting 5 folds for each of 84 candidates, totalling 420 fits\n",
      "[CV] END C=0.001, dual=True, loss=hinge, max_iter=1000, penalty=l1; total time=   0.0s\n",
      "[CV] END C=0.001, dual=True, loss=hinge, max_iter=1000, penalty=l1; total time=   0.0s\n",
      "[CV] END C=0.001, dual=True, loss=hinge, max_iter=1000, penalty=l1; total time=   0.0s\n",
      "[CV] END C=0.001, dual=True, loss=hinge, max_iter=1000, penalty=l1; total time=   0.0s\n",
      "[CV] END C=0.001, dual=True, loss=hinge, max_iter=1000, penalty=l1; total time=   0.0s\n",
      "[CV] END C=0.001, dual=True, loss=hinge, max_iter=3000, penalty=l1; total time=   0.0s\n",
      "[CV] END C=0.001, dual=True, loss=hinge, max_iter=3000, penalty=l1; total time=   0.0s\n",
      "[CV] END C=0.001, dual=True, loss=hinge, max_iter=3000, penalty=l1; total time=   0.0s\n",
      "[CV] END C=0.001, dual=True, loss=hinge, max_iter=3000, penalty=l1; total time=   0.0s\n",
      "[CV] END C=0.001, dual=True, loss=hinge, max_iter=3000, penalty=l1; total time=   0.0s\n",
      "[CV] END C=0.001, dual=True, loss=hinge, max_iter=1000, penalty=l2; total time=   0.2s\n",
      "[CV] END C=0.001, dual=True, loss=hinge, max_iter=1000, penalty=l2; total time=   0.2s\n",
      "[CV] END C=0.001, dual=True, loss=hinge, max_iter=1000, penalty=l2; total time=   0.2s\n",
      "[CV] END C=0.001, dual=True, loss=hinge, max_iter=5000, penalty=l1; total time=   0.0s\n",
      "[CV] END C=0.001, dual=True, loss=hinge, max_iter=5000, penalty=l1; total time=   0.0s\n",
      "[CV] END C=0.001, dual=True, loss=hinge, max_iter=5000, penalty=l1; total time=   0.0s\n",
      "[CV] END C=0.001, dual=True, loss=hinge, max_iter=1000, penalty=l2; total time=   0.3s\n",
      "[CV] END C=0.001, dual=True, loss=hinge, max_iter=5000, penalty=l1; total time=   0.0s\n",
      "[CV] END C=0.001, dual=True, loss=hinge, max_iter=5000, penalty=l1; total time=   0.0s\n",
      "[CV] END C=0.001, dual=True, loss=hinge, max_iter=3000, penalty=l2; total time=   0.2s\n",
      "[CV] END C=0.001, dual=True, loss=squared_hinge, max_iter=1000, penalty=l1; total time=   0.0s\n",
      "[CV] END C=0.001, dual=True, loss=hinge, max_iter=1000, penalty=l2; total time=   0.3s\n",
      "[CV] END C=0.001, dual=True, loss=hinge, max_iter=3000, penalty=l2; total time=   0.2s\n",
      "[CV] END C=0.001, dual=True, loss=squared_hinge, max_iter=1000, penalty=l1; total time=   0.0s\n",
      "[CV] END C=0.001, dual=True, loss=squared_hinge, max_iter=1000, penalty=l1; total time=   0.0s\n",
      "[CV] END C=0.001, dual=True, loss=squared_hinge, max_iter=1000, penalty=l1; total time=   0.0s\n",
      "[CV] END C=0.001, dual=True, loss=squared_hinge, max_iter=1000, penalty=l1; total time=   0.0s\n",
      "[CV] END C=0.001, dual=True, loss=hinge, max_iter=3000, penalty=l2; total time=   0.4s\n",
      "[CV] END C=0.001, dual=True, loss=hinge, max_iter=5000, penalty=l2; total time=   0.3s\n",
      "[CV] END C=0.001, dual=True, loss=hinge, max_iter=5000, penalty=l2; total time=   0.3s\n",
      "[CV] END C=0.001, dual=True, loss=squared_hinge, max_iter=3000, penalty=l1; total time=   0.0s\n",
      "[CV] END C=0.001, dual=True, loss=hinge, max_iter=3000, penalty=l2; total time=   0.3s\n",
      "[CV] END C=0.001, dual=True, loss=hinge, max_iter=5000, penalty=l2; total time=   0.3s\n",
      "[CV] END C=0.001, dual=True, loss=squared_hinge, max_iter=3000, penalty=l1; total time=   0.0s\n",
      "[CV] END C=0.001, dual=True, loss=hinge, max_iter=3000, penalty=l2; total time=   0.3s\n",
      "[CV] END C=0.001, dual=True, loss=squared_hinge, max_iter=3000, penalty=l1; total time=   0.0s\n",
      "[CV] END C=0.001, dual=True, loss=squared_hinge, max_iter=3000, penalty=l1; total time=   0.0s\n",
      "[CV] END C=0.001, dual=True, loss=squared_hinge, max_iter=3000, penalty=l1; total time=   0.0s\n",
      "[CV] END C=0.001, dual=True, loss=hinge, max_iter=5000, penalty=l2; total time=   0.2s\n",
      "[CV] END C=0.001, dual=True, loss=squared_hinge, max_iter=5000, penalty=l1; total time=   0.0s\n",
      "[CV] END C=0.001, dual=True, loss=squared_hinge, max_iter=5000, penalty=l1; total time=   0.0s\n",
      "[CV] END C=0.001, dual=True, loss=squared_hinge, max_iter=5000, penalty=l1; total time=   0.0s\n",
      "[CV] END C=0.001, dual=True, loss=squared_hinge, max_iter=1000, penalty=l2; total time=   0.5s\n",
      "[CV] END C=0.001, dual=True, loss=squared_hinge, max_iter=5000, penalty=l1; total time=   0.0s\n",
      "[CV] END C=0.001, dual=True, loss=squared_hinge, max_iter=1000, penalty=l2; total time=   0.5s\n",
      "[CV] END C=0.001, dual=True, loss=squared_hinge, max_iter=1000, penalty=l2; total time=   0.4s\n",
      "[CV] END C=0.001, dual=True, loss=squared_hinge, max_iter=5000, penalty=l1; total time=   0.0s\n",
      "[CV] END C=0.001, dual=True, loss=hinge, max_iter=5000, penalty=l2; total time=   0.4s\n",
      "[CV] END C=0.001, dual=True, loss=squared_hinge, max_iter=3000, penalty=l2; total time=   0.5s\n",
      "[CV] END C=0.001, dual=True, loss=squared_hinge, max_iter=3000, penalty=l2; total time=   0.5s\n",
      "[CV] END C=0.0175, dual=True, loss=hinge, max_iter=1000, penalty=l1; total time=   0.0s\n",
      "[CV] END C=0.001, dual=True, loss=squared_hinge, max_iter=3000, penalty=l2; total time=   0.5s\n",
      "[CV] END C=0.0175, dual=True, loss=hinge, max_iter=1000, penalty=l1; total time=   0.0s\n",
      "[CV] END C=0.0175, dual=True, loss=hinge, max_iter=1000, penalty=l1; total time=   0.0s\n",
      "[CV] END C=0.0175, dual=True, loss=hinge, max_iter=1000, penalty=l1; total time=   0.0s\n",
      "[CV] END C=0.0175, dual=True, loss=hinge, max_iter=1000, penalty=l1; total time=   0.0s\n",
      "[CV] END C=0.001, dual=True, loss=squared_hinge, max_iter=1000, penalty=l2; total time=   0.5s\n",
      "[CV] END C=0.001, dual=True, loss=squared_hinge, max_iter=5000, penalty=l2; total time=   0.5s\n",
      "[CV] END C=0.001, dual=True, loss=squared_hinge, max_iter=1000, penalty=l2; total time=   0.5s\n",
      "[CV] END C=0.001, dual=True, loss=squared_hinge, max_iter=5000, penalty=l2; total time=   0.5s\n",
      "[CV] END C=0.0175, dual=True, loss=hinge, max_iter=3000, penalty=l1; total time=   0.0s\n",
      "[CV] END C=0.0175, dual=True, loss=hinge, max_iter=3000, penalty=l1; total time=   0.0s\n",
      "[CV] END C=0.0175, dual=True, loss=hinge, max_iter=3000, penalty=l1; total time=   0.0s\n",
      "[CV] END C=0.0175, dual=True, loss=hinge, max_iter=3000, penalty=l1; total time=   0.0s\n",
      "[CV] END C=0.001, dual=True, loss=squared_hinge, max_iter=5000, penalty=l2; total time=   0.5s\n",
      "[CV] END C=0.0175, dual=True, loss=hinge, max_iter=3000, penalty=l1; total time=   0.0s\n",
      "[CV] END C=0.001, dual=True, loss=squared_hinge, max_iter=3000, penalty=l2; total time=   0.4s\n",
      "[CV] END C=0.001, dual=True, loss=squared_hinge, max_iter=3000, penalty=l2; total time=   0.4s\n",
      "[CV] END C=0.0175, dual=True, loss=hinge, max_iter=1000, penalty=l2; total time=   0.4s\n",
      "[CV] END C=0.0175, dual=True, loss=hinge, max_iter=5000, penalty=l1; total time=   0.0s\n",
      "[CV] END C=0.0175, dual=True, loss=hinge, max_iter=5000, penalty=l1; total time=   0.0s\n",
      "[CV] END C=0.0175, dual=True, loss=hinge, max_iter=5000, penalty=l1; total time=   0.0s\n",
      "[CV] END C=0.0175, dual=True, loss=hinge, max_iter=5000, penalty=l1; total time=   0.0s\n",
      "[CV] END C=0.001, dual=True, loss=squared_hinge, max_iter=5000, penalty=l2; total time=   0.4s\n",
      "[CV] END C=0.0175, dual=True, loss=hinge, max_iter=5000, penalty=l1; total time=   0.0s\n",
      "[CV] END C=0.0175, dual=True, loss=hinge, max_iter=3000, penalty=l2; total time=   0.3s\n",
      "[CV] END C=0.001, dual=True, loss=squared_hinge, max_iter=5000, penalty=l2; total time=   0.4s\n",
      "[CV] END C=0.0175, dual=True, loss=hinge, max_iter=1000, penalty=l2; total time=   0.6s\n",
      "[CV] END C=0.0175, dual=True, loss=hinge, max_iter=3000, penalty=l2; total time=   0.4s\n",
      "[CV] END C=0.0175, dual=True, loss=hinge, max_iter=5000, penalty=l2; total time=   0.3s\n",
      "[CV] END C=0.0175, dual=True, loss=hinge, max_iter=3000, penalty=l2; total time=   0.7s\n",
      "[CV] END C=0.0175, dual=True, loss=squared_hinge, max_iter=1000, penalty=l1; total time=   0.0s\n",
      "[CV] END C=0.0175, dual=True, loss=squared_hinge, max_iter=1000, penalty=l1; total time=   0.0s\n",
      "[CV] END C=0.0175, dual=True, loss=squared_hinge, max_iter=1000, penalty=l1; total time=   0.0s\n",
      "[CV] END C=0.0175, dual=True, loss=squared_hinge, max_iter=1000, penalty=l1; total time=   0.0s\n",
      "[CV] END C=0.0175, dual=True, loss=squared_hinge, max_iter=1000, penalty=l1; total time=   0.0s\n",
      "[CV] END C=0.0175, dual=True, loss=hinge, max_iter=1000, penalty=l2; total time=   0.9s\n",
      "[CV] END C=0.0175, dual=True, loss=hinge, max_iter=5000, penalty=l2; total time=   0.6s\n",
      "[CV] END C=0.0175, dual=True, loss=hinge, max_iter=1000, penalty=l2; total time=   0.4s\n",
      "[CV] END C=0.0175, dual=True, loss=hinge, max_iter=3000, penalty=l2; total time=   0.5s\n",
      "[CV] END C=0.0175, dual=True, loss=squared_hinge, max_iter=3000, penalty=l1; total time=   0.0s\n",
      "[CV] END C=0.0175, dual=True, loss=hinge, max_iter=3000, penalty=l2; total time=   0.7s\n",
      "[CV] END C=0.0175, dual=True, loss=squared_hinge, max_iter=3000, penalty=l1; total time=   0.0s\n",
      "[CV] END C=0.0175, dual=True, loss=hinge, max_iter=1000, penalty=l2; total time=   0.3s\n",
      "[CV] END C=0.0175, dual=True, loss=squared_hinge, max_iter=3000, penalty=l1; total time=   0.0s\n",
      "[CV] END C=0.0175, dual=True, loss=squared_hinge, max_iter=3000, penalty=l1; total time=   0.0s\n",
      "[CV] END C=0.0175, dual=True, loss=squared_hinge, max_iter=3000, penalty=l1; total time=   0.0s\n",
      "[CV] END C=0.0175, dual=True, loss=hinge, max_iter=5000, penalty=l2; total time=   0.7s\n",
      "[CV] END C=0.0175, dual=True, loss=hinge, max_iter=5000, penalty=l2; total time=   0.6s\n",
      "[CV] END C=0.0175, dual=True, loss=squared_hinge, max_iter=5000, penalty=l1; total time=   0.0s\n",
      "[CV] END C=0.0175, dual=True, loss=squared_hinge, max_iter=5000, penalty=l1; total time=   0.0s\n",
      "[CV] END C=0.0175, dual=True, loss=squared_hinge, max_iter=5000, penalty=l1; total time=   0.0s\n",
      "[CV] END C=0.0175, dual=True, loss=hinge, max_iter=5000, penalty=l2; total time=   0.4s\n",
      "[CV] END C=0.0175, dual=True, loss=squared_hinge, max_iter=5000, penalty=l1; total time=   0.0s\n",
      "[CV] END C=0.0175, dual=True, loss=squared_hinge, max_iter=5000, penalty=l1; total time=   0.0s\n",
      "[CV] END C=0.0175, dual=True, loss=squared_hinge, max_iter=1000, penalty=l2; total time=   1.1s\n",
      "[CV] END C=0.0175, dual=True, loss=squared_hinge, max_iter=1000, penalty=l2; total time=   1.1s\n",
      "[CV] END C=0.0175, dual=True, loss=squared_hinge, max_iter=1000, penalty=l2; total time=   1.1s\n",
      "[CV] END C=0.0175, dual=True, loss=squared_hinge, max_iter=3000, penalty=l2; total time=   1.1s\n",
      "[CV] END C=0.034, dual=True, loss=hinge, max_iter=1000, penalty=l1; total time=   0.0s\n",
      "[CV] END C=0.034, dual=True, loss=hinge, max_iter=1000, penalty=l1; total time=   0.0s\n",
      "[CV] END C=0.0175, dual=True, loss=squared_hinge, max_iter=3000, penalty=l2; total time=   1.1s\n",
      "[CV] END C=0.034, dual=True, loss=hinge, max_iter=1000, penalty=l1; total time=   0.0s\n",
      "[CV] END C=0.034, dual=True, loss=hinge, max_iter=1000, penalty=l1; total time=   0.0s\n",
      "[CV] END C=0.034, dual=True, loss=hinge, max_iter=1000, penalty=l1; total time=   0.0s\n",
      "[CV] END C=0.0175, dual=True, loss=squared_hinge, max_iter=3000, penalty=l2; total time=   1.2s\n"
     ]
    },
    {
     "name": "stderr",
     "output_type": "stream",
     "text": [
      "/home/habkaffee/programming/nlp/nlp_classification/.venv/lib/python3.12/site-packages/sklearn/svm/_base.py:1235: ConvergenceWarning: Liblinear failed to converge, increase the number of iterations.\n",
      "  warnings.warn(\n"
     ]
    },
    {
     "name": "stdout",
     "output_type": "stream",
     "text": [
      "[CV] END C=0.0175, dual=True, loss=squared_hinge, max_iter=5000, penalty=l2; total time=   1.1s\n",
      "[CV] END C=0.034, dual=True, loss=hinge, max_iter=1000, penalty=l2; total time=   0.3s\n",
      "[CV] END C=0.0175, dual=True, loss=squared_hinge, max_iter=5000, penalty=l2; total time=   1.1s\n"
     ]
    },
    {
     "name": "stderr",
     "output_type": "stream",
     "text": [
      "/home/habkaffee/programming/nlp/nlp_classification/.venv/lib/python3.12/site-packages/sklearn/svm/_base.py:1235: ConvergenceWarning: Liblinear failed to converge, increase the number of iterations.\n",
      "  warnings.warn(\n",
      "/home/habkaffee/programming/nlp/nlp_classification/.venv/lib/python3.12/site-packages/sklearn/svm/_base.py:1235: ConvergenceWarning: Liblinear failed to converge, increase the number of iterations.\n",
      "  warnings.warn(\n"
     ]
    },
    {
     "name": "stdout",
     "output_type": "stream",
     "text": [
      "[CV] END C=0.034, dual=True, loss=hinge, max_iter=1000, penalty=l2; total time=   0.3s\n",
      "[CV] END C=0.0175, dual=True, loss=squared_hinge, max_iter=1000, penalty=l2; total time=   1.1s\n",
      "[CV] END C=0.034, dual=True, loss=hinge, max_iter=1000, penalty=l2; total time=   0.3s\n",
      "[CV] END C=0.034, dual=True, loss=hinge, max_iter=3000, penalty=l1; total time=   0.0s\n",
      "[CV] END C=0.0175, dual=True, loss=squared_hinge, max_iter=5000, penalty=l2; total time=   1.1s\n",
      "[CV] END C=0.034, dual=True, loss=hinge, max_iter=3000, penalty=l1; total time=   0.0s\n",
      "[CV] END C=0.034, dual=True, loss=hinge, max_iter=3000, penalty=l1; total time=   0.0s\n",
      "[CV] END C=0.034, dual=True, loss=hinge, max_iter=3000, penalty=l1; total time=   0.0s\n",
      "[CV] END C=0.034, dual=True, loss=hinge, max_iter=3000, penalty=l1; total time=   0.0s\n",
      "[CV] END C=0.0175, dual=True, loss=squared_hinge, max_iter=1000, penalty=l2; total time=   1.1s\n",
      "[CV] END C=0.034, dual=True, loss=hinge, max_iter=1000, penalty=l2; total time=   0.3s\n",
      "[CV] END C=0.034, dual=True, loss=hinge, max_iter=1000, penalty=l2; total time=   0.3s\n",
      "[CV] END C=0.0175, dual=True, loss=squared_hinge, max_iter=3000, penalty=l2; total time=   1.1s\n",
      "[CV] END C=0.034, dual=True, loss=hinge, max_iter=5000, penalty=l1; total time=   0.0s\n",
      "[CV] END C=0.034, dual=True, loss=hinge, max_iter=5000, penalty=l1; total time=   0.0s\n",
      "[CV] END C=0.034, dual=True, loss=hinge, max_iter=5000, penalty=l1; total time=   0.0s\n",
      "[CV] END C=0.034, dual=True, loss=hinge, max_iter=5000, penalty=l1; total time=   0.0s\n",
      "[CV] END C=0.034, dual=True, loss=hinge, max_iter=5000, penalty=l1; total time=   0.0s\n"
     ]
    },
    {
     "name": "stderr",
     "output_type": "stream",
     "text": [
      "/home/habkaffee/programming/nlp/nlp_classification/.venv/lib/python3.12/site-packages/sklearn/svm/_base.py:1235: ConvergenceWarning: Liblinear failed to converge, increase the number of iterations.\n",
      "  warnings.warn(\n",
      "/home/habkaffee/programming/nlp/nlp_classification/.venv/lib/python3.12/site-packages/sklearn/svm/_base.py:1235: ConvergenceWarning: Liblinear failed to converge, increase the number of iterations.\n",
      "  warnings.warn(\n"
     ]
    },
    {
     "name": "stdout",
     "output_type": "stream",
     "text": [
      "[CV] END C=0.0175, dual=True, loss=squared_hinge, max_iter=3000, penalty=l2; total time=   1.1s\n",
      "[CV] END C=0.034, dual=True, loss=hinge, max_iter=3000, penalty=l2; total time=   0.5s\n",
      "[CV] END C=0.034, dual=True, loss=squared_hinge, max_iter=1000, penalty=l1; total time=   0.0s\n",
      "[CV] END C=0.034, dual=True, loss=squared_hinge, max_iter=1000, penalty=l1; total time=   0.0s\n",
      "[CV] END C=0.034, dual=True, loss=hinge, max_iter=3000, penalty=l2; total time=   0.4s\n",
      "[CV] END C=0.034, dual=True, loss=squared_hinge, max_iter=1000, penalty=l1; total time=   0.0s\n",
      "[CV] END C=0.034, dual=True, loss=squared_hinge, max_iter=1000, penalty=l1; total time=   0.0s\n",
      "[CV] END C=0.034, dual=True, loss=squared_hinge, max_iter=1000, penalty=l1; total time=   0.0s\n",
      "[CV] END C=0.0175, dual=True, loss=squared_hinge, max_iter=5000, penalty=l2; total time=   1.2s\n",
      "[CV] END C=0.034, dual=True, loss=hinge, max_iter=5000, penalty=l2; total time=   0.6s\n",
      "[CV] END C=0.034, dual=True, loss=hinge, max_iter=5000, penalty=l2; total time=   0.6s\n",
      "[CV] END C=0.034, dual=True, loss=hinge, max_iter=3000, penalty=l2; total time=   0.9s\n",
      "[CV] END C=0.0175, dual=True, loss=squared_hinge, max_iter=5000, penalty=l2; total time=   1.2s\n",
      "[CV] END C=0.034, dual=True, loss=hinge, max_iter=5000, penalty=l2; total time=   0.8s\n",
      "[CV] END C=0.034, dual=True, loss=squared_hinge, max_iter=3000, penalty=l1; total time=   0.0s\n",
      "[CV] END C=0.034, dual=True, loss=hinge, max_iter=3000, penalty=l2; total time=   0.6s\n",
      "[CV] END C=0.034, dual=True, loss=squared_hinge, max_iter=3000, penalty=l1; total time=   0.0s\n",
      "[CV] END C=0.034, dual=True, loss=squared_hinge, max_iter=3000, penalty=l1; total time=   0.0s\n",
      "[CV] END C=0.034, dual=True, loss=squared_hinge, max_iter=3000, penalty=l1; total time=   0.0s\n",
      "[CV] END C=0.034, dual=True, loss=squared_hinge, max_iter=3000, penalty=l1; total time=   0.0s\n",
      "[CV] END C=0.034, dual=True, loss=hinge, max_iter=5000, penalty=l2; total time=   0.6s\n",
      "[CV] END C=0.034, dual=True, loss=hinge, max_iter=3000, penalty=l2; total time=   0.5s\n",
      "[CV] END C=0.034, dual=True, loss=squared_hinge, max_iter=5000, penalty=l1; total time=   0.0s\n",
      "[CV] END C=0.034, dual=True, loss=squared_hinge, max_iter=5000, penalty=l1; total time=   0.0s\n",
      "[CV] END C=0.034, dual=True, loss=squared_hinge, max_iter=5000, penalty=l1; total time=   0.0s\n",
      "[CV] END C=0.034, dual=True, loss=squared_hinge, max_iter=5000, penalty=l1; total time=   0.0s\n",
      "[CV] END C=0.034, dual=True, loss=squared_hinge, max_iter=5000, penalty=l1; total time=   0.0s\n",
      "[CV] END C=0.034, dual=True, loss=hinge, max_iter=5000, penalty=l2; total time=   0.9s\n",
      "[CV] END C=0.034, dual=True, loss=squared_hinge, max_iter=1000, penalty=l2; total time=   1.9s\n",
      "[CV] END C=0.034, dual=True, loss=squared_hinge, max_iter=1000, penalty=l2; total time=   1.9s\n",
      "[CV] END C=0.034, dual=True, loss=squared_hinge, max_iter=3000, penalty=l2; total time=   1.7s\n",
      "[CV] END C=0.034, dual=True, loss=squared_hinge, max_iter=1000, penalty=l2; total time=   1.8s\n",
      "[CV] END C=0.034, dual=True, loss=squared_hinge, max_iter=3000, penalty=l2; total time=   1.8s\n",
      "[CV] END C=0.0505, dual=True, loss=hinge, max_iter=1000, penalty=l1; total time=   0.0s\n",
      "[CV] END C=0.0505, dual=True, loss=hinge, max_iter=1000, penalty=l1; total time=   0.0s\n",
      "[CV] END C=0.0505, dual=True, loss=hinge, max_iter=1000, penalty=l1; total time=   0.0s\n",
      "[CV] END C=0.0505, dual=True, loss=hinge, max_iter=1000, penalty=l1; total time=   0.0s\n",
      "[CV] END C=0.0505, dual=True, loss=hinge, max_iter=1000, penalty=l1; total time=   0.0s\n",
      "[CV] END C=0.034, dual=True, loss=squared_hinge, max_iter=3000, penalty=l2; total time=   1.8s\n",
      "[CV] END C=0.0505, dual=True, loss=hinge, max_iter=1000, penalty=l2; total time=   0.3s\n",
      "[CV] END C=0.034, dual=True, loss=squared_hinge, max_iter=5000, penalty=l2; total time=   1.8s\n"
     ]
    },
    {
     "name": "stderr",
     "output_type": "stream",
     "text": [
      "/home/habkaffee/programming/nlp/nlp_classification/.venv/lib/python3.12/site-packages/sklearn/svm/_base.py:1235: ConvergenceWarning: Liblinear failed to converge, increase the number of iterations.\n",
      "  warnings.warn(\n"
     ]
    },
    {
     "name": "stdout",
     "output_type": "stream",
     "text": [
      "[CV] END C=0.034, dual=True, loss=squared_hinge, max_iter=5000, penalty=l2; total time=   1.8s\n",
      "[CV] END C=0.0505, dual=True, loss=hinge, max_iter=1000, penalty=l2; total time=   0.3s\n",
      "[CV] END C=0.0505, dual=True, loss=hinge, max_iter=1000, penalty=l2; total time=   0.3s\n"
     ]
    },
    {
     "name": "stderr",
     "output_type": "stream",
     "text": [
      "/home/habkaffee/programming/nlp/nlp_classification/.venv/lib/python3.12/site-packages/sklearn/svm/_base.py:1235: ConvergenceWarning: Liblinear failed to converge, increase the number of iterations.\n",
      "  warnings.warn(\n",
      "/home/habkaffee/programming/nlp/nlp_classification/.venv/lib/python3.12/site-packages/sklearn/svm/_base.py:1235: ConvergenceWarning: Liblinear failed to converge, increase the number of iterations.\n",
      "  warnings.warn(\n",
      "/home/habkaffee/programming/nlp/nlp_classification/.venv/lib/python3.12/site-packages/sklearn/svm/_base.py:1235: ConvergenceWarning: Liblinear failed to converge, increase the number of iterations.\n",
      "  warnings.warn(\n",
      "/home/habkaffee/programming/nlp/nlp_classification/.venv/lib/python3.12/site-packages/sklearn/svm/_base.py:1235: ConvergenceWarning: Liblinear failed to converge, increase the number of iterations.\n",
      "  warnings.warn(\n"
     ]
    },
    {
     "name": "stdout",
     "output_type": "stream",
     "text": [
      "[CV] END C=0.0505, dual=True, loss=hinge, max_iter=1000, penalty=l2; total time=   0.3s\n",
      "[CV] END C=0.0505, dual=True, loss=hinge, max_iter=1000, penalty=l2; total time=   0.3s\n",
      "[CV] END C=0.0505, dual=True, loss=hinge, max_iter=3000, penalty=l1; total time=   0.0s\n",
      "[CV] END C=0.0505, dual=True, loss=hinge, max_iter=3000, penalty=l1; total time=   0.0s\n",
      "[CV] END C=0.0505, dual=True, loss=hinge, max_iter=3000, penalty=l1; total time=   0.0s\n",
      "[CV] END C=0.0505, dual=True, loss=hinge, max_iter=3000, penalty=l1; total time=   0.0s\n",
      "[CV] END C=0.0505, dual=True, loss=hinge, max_iter=3000, penalty=l1; total time=   0.0s\n",
      "[CV] END C=0.034, dual=True, loss=squared_hinge, max_iter=5000, penalty=l2; total time=   1.9s\n",
      "[CV] END C=0.034, dual=True, loss=squared_hinge, max_iter=1000, penalty=l2; total time=   1.8s\n",
      "[CV] END C=0.0505, dual=True, loss=hinge, max_iter=3000, penalty=l2; total time=   0.4s\n",
      "[CV] END C=0.0505, dual=True, loss=hinge, max_iter=3000, penalty=l2; total time=   0.5s\n",
      "[CV] END C=0.0505, dual=True, loss=hinge, max_iter=5000, penalty=l1; total time=   0.0s\n",
      "[CV] END C=0.0505, dual=True, loss=hinge, max_iter=5000, penalty=l1; total time=   0.0s\n",
      "[CV] END C=0.034, dual=True, loss=squared_hinge, max_iter=1000, penalty=l2; total time=   1.8s\n",
      "[CV] END C=0.0505, dual=True, loss=hinge, max_iter=5000, penalty=l1; total time=   0.0s\n",
      "[CV] END C=0.0505, dual=True, loss=hinge, max_iter=5000, penalty=l1; total time=   0.0s\n",
      "[CV] END C=0.034, dual=True, loss=squared_hinge, max_iter=3000, penalty=l2; total time=   1.9s\n",
      "[CV] END C=0.0505, dual=True, loss=hinge, max_iter=5000, penalty=l1; total time=   0.0s\n",
      "[CV] END C=0.0505, dual=True, loss=hinge, max_iter=3000, penalty=l2; total time=   0.7s\n",
      "[CV] END C=0.034, dual=True, loss=squared_hinge, max_iter=3000, penalty=l2; total time=   1.8s\n",
      "[CV] END C=0.0505, dual=True, loss=hinge, max_iter=3000, penalty=l2; total time=   0.7s\n",
      "[CV] END C=0.0505, dual=True, loss=squared_hinge, max_iter=1000, penalty=l1; total time=   0.0s\n",
      "[CV] END C=0.0505, dual=True, loss=squared_hinge, max_iter=1000, penalty=l1; total time=   0.0s\n",
      "[CV] END C=0.0505, dual=True, loss=squared_hinge, max_iter=1000, penalty=l1; total time=   0.0s\n",
      "[CV] END C=0.0505, dual=True, loss=squared_hinge, max_iter=1000, penalty=l1; total time=   0.0s\n",
      "[CV] END C=0.0505, dual=True, loss=hinge, max_iter=5000, penalty=l2; total time=   0.6s\n",
      "[CV] END C=0.0505, dual=True, loss=squared_hinge, max_iter=1000, penalty=l1; total time=   0.0s\n",
      "[CV] END C=0.034, dual=True, loss=squared_hinge, max_iter=5000, penalty=l2; total time=   1.9s\n",
      "[CV] END C=0.0505, dual=True, loss=hinge, max_iter=5000, penalty=l2; total time=   0.8s\n",
      "[CV] END C=0.0505, dual=True, loss=hinge, max_iter=5000, penalty=l2; total time=   0.8s\n",
      "[CV] END C=0.0505, dual=True, loss=hinge, max_iter=3000, penalty=l2; total time=   0.6s\n",
      "[CV] END C=0.0505, dual=True, loss=hinge, max_iter=5000, penalty=l2; total time=   0.6s\n",
      "[CV] END C=0.0505, dual=True, loss=squared_hinge, max_iter=3000, penalty=l1; total time=   0.0s\n",
      "[CV] END C=0.0505, dual=True, loss=squared_hinge, max_iter=3000, penalty=l1; total time=   0.0s\n",
      "[CV] END C=0.0505, dual=True, loss=squared_hinge, max_iter=3000, penalty=l1; total time=   0.0s\n",
      "[CV] END C=0.0505, dual=True, loss=squared_hinge, max_iter=3000, penalty=l1; total time=   0.0s\n",
      "[CV] END C=0.0505, dual=True, loss=squared_hinge, max_iter=3000, penalty=l1; total time=   0.0s\n",
      "[CV] END C=0.0505, dual=True, loss=hinge, max_iter=5000, penalty=l2; total time=   0.7s\n",
      "[CV] END C=0.034, dual=True, loss=squared_hinge, max_iter=5000, penalty=l2; total time=   1.9s\n",
      "[CV] END C=0.0505, dual=True, loss=squared_hinge, max_iter=1000, penalty=l2; total time=   2.3s\n",
      "[CV] END C=0.0505, dual=True, loss=squared_hinge, max_iter=1000, penalty=l2; total time=   2.5s\n",
      "[CV] END C=0.0505, dual=True, loss=squared_hinge, max_iter=1000, penalty=l2; total time=   2.5s\n",
      "[CV] END C=0.0505, dual=True, loss=squared_hinge, max_iter=5000, penalty=l1; total time=   0.0s\n",
      "[CV] END C=0.0505, dual=True, loss=squared_hinge, max_iter=5000, penalty=l1; total time=   0.0s\n",
      "[CV] END C=0.0505, dual=True, loss=squared_hinge, max_iter=5000, penalty=l1; total time=   0.0s\n",
      "[CV] END C=0.0505, dual=True, loss=squared_hinge, max_iter=5000, penalty=l1; total time=   0.0s\n",
      "[CV] END C=0.0505, dual=True, loss=squared_hinge, max_iter=5000, penalty=l1; total time=   0.0s\n",
      "[CV] END C=0.0505, dual=True, loss=squared_hinge, max_iter=1000, penalty=l2; total time=   2.4s\n",
      "[CV] END C=0.0505, dual=True, loss=squared_hinge, max_iter=1000, penalty=l2; total time=   2.5s\n",
      "[CV] END C=0.0505, dual=True, loss=squared_hinge, max_iter=3000, penalty=l2; total time=   2.5s\n",
      "[CV] END C=0.0505, dual=True, loss=squared_hinge, max_iter=3000, penalty=l2; total time=   2.4s\n",
      "[CV] END C=0.0505, dual=True, loss=squared_hinge, max_iter=3000, penalty=l2; total time=   2.5s\n",
      "[CV] END C=0.067, dual=True, loss=hinge, max_iter=1000, penalty=l1; total time=   0.0s\n",
      "[CV] END C=0.067, dual=True, loss=hinge, max_iter=1000, penalty=l1; total time=   0.0s\n",
      "[CV] END C=0.067, dual=True, loss=hinge, max_iter=1000, penalty=l1; total time=   0.0s\n",
      "[CV] END C=0.067, dual=True, loss=hinge, max_iter=1000, penalty=l1; total time=   0.0s\n",
      "[CV] END C=0.067, dual=True, loss=hinge, max_iter=1000, penalty=l1; total time=   0.0s\n"
     ]
    },
    {
     "name": "stderr",
     "output_type": "stream",
     "text": [
      "/home/habkaffee/programming/nlp/nlp_classification/.venv/lib/python3.12/site-packages/sklearn/svm/_base.py:1235: ConvergenceWarning: Liblinear failed to converge, increase the number of iterations.\n",
      "  warnings.warn(\n"
     ]
    },
    {
     "name": "stdout",
     "output_type": "stream",
     "text": [
      "[CV] END C=0.067, dual=True, loss=hinge, max_iter=1000, penalty=l2; total time=   0.4s\n"
     ]
    },
    {
     "name": "stderr",
     "output_type": "stream",
     "text": [
      "/home/habkaffee/programming/nlp/nlp_classification/.venv/lib/python3.12/site-packages/sklearn/svm/_base.py:1235: ConvergenceWarning: Liblinear failed to converge, increase the number of iterations.\n",
      "  warnings.warn(\n"
     ]
    },
    {
     "name": "stdout",
     "output_type": "stream",
     "text": [
      "[CV] END C=0.067, dual=True, loss=hinge, max_iter=1000, penalty=l2; total time=   0.3s\n"
     ]
    },
    {
     "name": "stderr",
     "output_type": "stream",
     "text": [
      "/home/habkaffee/programming/nlp/nlp_classification/.venv/lib/python3.12/site-packages/sklearn/svm/_base.py:1235: ConvergenceWarning: Liblinear failed to converge, increase the number of iterations.\n",
      "  warnings.warn(\n"
     ]
    },
    {
     "name": "stdout",
     "output_type": "stream",
     "text": [
      "[CV] END C=0.067, dual=True, loss=hinge, max_iter=1000, penalty=l2; total time=   0.4s\n"
     ]
    },
    {
     "name": "stderr",
     "output_type": "stream",
     "text": [
      "/home/habkaffee/programming/nlp/nlp_classification/.venv/lib/python3.12/site-packages/sklearn/svm/_base.py:1235: ConvergenceWarning: Liblinear failed to converge, increase the number of iterations.\n",
      "  warnings.warn(\n"
     ]
    },
    {
     "name": "stdout",
     "output_type": "stream",
     "text": [
      "[CV] END C=0.067, dual=True, loss=hinge, max_iter=1000, penalty=l2; total time=   0.3s\n",
      "[CV] END C=0.0505, dual=True, loss=squared_hinge, max_iter=3000, penalty=l2; total time=   2.7s\n",
      "[CV] END C=0.067, dual=True, loss=hinge, max_iter=3000, penalty=l1; total time=   0.0s\n",
      "[CV] END C=0.067, dual=True, loss=hinge, max_iter=3000, penalty=l1; total time=   0.0s\n",
      "[CV] END C=0.067, dual=True, loss=hinge, max_iter=3000, penalty=l1; total time=   0.0s\n",
      "[CV] END C=0.067, dual=True, loss=hinge, max_iter=1000, penalty=l2; total time=   0.5s\n",
      "[CV] END C=0.0505, dual=True, loss=squared_hinge, max_iter=3000, penalty=l2; total time=   2.8s\n",
      "[CV] END C=0.067, dual=True, loss=hinge, max_iter=3000, penalty=l1; total time=   0.0s\n",
      "[CV] END C=0.067, dual=True, loss=hinge, max_iter=3000, penalty=l1; total time=   0.0s\n",
      "[CV] END C=0.0505, dual=True, loss=squared_hinge, max_iter=5000, penalty=l2; total time=   2.6s\n",
      "[CV] END C=0.0505, dual=True, loss=squared_hinge, max_iter=5000, penalty=l2; total time=   2.7s\n"
     ]
    },
    {
     "name": "stderr",
     "output_type": "stream",
     "text": [
      "/home/habkaffee/programming/nlp/nlp_classification/.venv/lib/python3.12/site-packages/sklearn/svm/_base.py:1235: ConvergenceWarning: Liblinear failed to converge, increase the number of iterations.\n",
      "  warnings.warn(\n"
     ]
    },
    {
     "name": "stdout",
     "output_type": "stream",
     "text": [
      "[CV] END C=0.0505, dual=True, loss=squared_hinge, max_iter=5000, penalty=l2; total time=   2.9s\n",
      "[CV] END C=0.067, dual=True, loss=hinge, max_iter=5000, penalty=l1; total time=   0.0s\n",
      "[CV] END C=0.067, dual=True, loss=hinge, max_iter=5000, penalty=l1; total time=   0.0s\n",
      "[CV] END C=0.067, dual=True, loss=hinge, max_iter=5000, penalty=l1; total time=   0.0s\n",
      "[CV] END C=0.067, dual=True, loss=hinge, max_iter=5000, penalty=l1; total time=   0.0s\n",
      "[CV] END C=0.067, dual=True, loss=hinge, max_iter=5000, penalty=l1; total time=   0.0s\n"
     ]
    },
    {
     "name": "stderr",
     "output_type": "stream",
     "text": [
      "/home/habkaffee/programming/nlp/nlp_classification/.venv/lib/python3.12/site-packages/sklearn/svm/_base.py:1235: ConvergenceWarning: Liblinear failed to converge, increase the number of iterations.\n",
      "  warnings.warn(\n",
      "/home/habkaffee/programming/nlp/nlp_classification/.venv/lib/python3.12/site-packages/sklearn/svm/_base.py:1235: ConvergenceWarning: Liblinear failed to converge, increase the number of iterations.\n",
      "  warnings.warn(\n",
      "/home/habkaffee/programming/nlp/nlp_classification/.venv/lib/python3.12/site-packages/sklearn/svm/_base.py:1235: ConvergenceWarning: Liblinear failed to converge, increase the number of iterations.\n",
      "  warnings.warn(\n",
      "/home/habkaffee/programming/nlp/nlp_classification/.venv/lib/python3.12/site-packages/sklearn/svm/_base.py:1235: ConvergenceWarning: Liblinear failed to converge, increase the number of iterations.\n",
      "  warnings.warn(\n"
     ]
    },
    {
     "name": "stdout",
     "output_type": "stream",
     "text": [
      "[CV] END C=0.0505, dual=True, loss=squared_hinge, max_iter=5000, penalty=l2; total time=   2.8s\n",
      "[CV] END C=0.067, dual=True, loss=hinge, max_iter=3000, penalty=l2; total time=   0.5s\n",
      "[CV] END C=0.067, dual=True, loss=hinge, max_iter=3000, penalty=l2; total time=   0.6s\n",
      "[CV] END C=0.067, dual=True, loss=hinge, max_iter=3000, penalty=l2; total time=   0.6s\n",
      "[CV] END C=0.067, dual=True, loss=hinge, max_iter=3000, penalty=l2; total time=   0.6s\n",
      "[CV] END C=0.067, dual=True, loss=squared_hinge, max_iter=1000, penalty=l1; total time=   0.0s\n",
      "[CV] END C=0.067, dual=True, loss=squared_hinge, max_iter=1000, penalty=l1; total time=   0.0s\n",
      "[CV] END C=0.067, dual=True, loss=hinge, max_iter=3000, penalty=l2; total time=   0.7s\n",
      "[CV] END C=0.067, dual=True, loss=squared_hinge, max_iter=1000, penalty=l1; total time=   0.0s\n",
      "[CV] END C=0.067, dual=True, loss=squared_hinge, max_iter=1000, penalty=l1; total time=   0.0s\n",
      "[CV] END C=0.067, dual=True, loss=squared_hinge, max_iter=1000, penalty=l1; total time=   0.0s\n",
      "[CV] END C=0.0505, dual=True, loss=squared_hinge, max_iter=5000, penalty=l2; total time=   3.0s\n",
      "[CV] END C=0.067, dual=True, loss=hinge, max_iter=5000, penalty=l2; total time=   0.6s\n",
      "[CV] END C=0.067, dual=True, loss=hinge, max_iter=5000, penalty=l2; total time=   0.7s\n",
      "[CV] END C=0.067, dual=True, loss=hinge, max_iter=5000, penalty=l2; total time=   0.8s\n",
      "[CV] END C=0.067, dual=True, loss=squared_hinge, max_iter=3000, penalty=l1; total time=   0.0s\n",
      "[CV] END C=0.067, dual=True, loss=squared_hinge, max_iter=3000, penalty=l1; total time=   0.0s\n",
      "[CV] END C=0.067, dual=True, loss=squared_hinge, max_iter=3000, penalty=l1; total time=   0.0s\n",
      "[CV] END C=0.067, dual=True, loss=squared_hinge, max_iter=3000, penalty=l1; total time=   0.0s\n",
      "[CV] END C=0.067, dual=True, loss=squared_hinge, max_iter=3000, penalty=l1; total time=   0.0s\n",
      "[CV] END C=0.067, dual=True, loss=hinge, max_iter=5000, penalty=l2; total time=   0.9s\n",
      "[CV] END C=0.067, dual=True, loss=hinge, max_iter=5000, penalty=l2; total time=   1.6s\n",
      "[CV] END C=0.067, dual=True, loss=squared_hinge, max_iter=1000, penalty=l2; total time=   3.4s\n",
      "[CV] END C=0.067, dual=True, loss=squared_hinge, max_iter=1000, penalty=l2; total time=   3.5s\n",
      "[CV] END C=0.067, dual=True, loss=squared_hinge, max_iter=1000, penalty=l2; total time=   3.6s\n",
      "[CV] END C=0.067, dual=True, loss=squared_hinge, max_iter=5000, penalty=l1; total time=   0.0s\n",
      "[CV] END C=0.067, dual=True, loss=squared_hinge, max_iter=5000, penalty=l1; total time=   0.0s\n",
      "[CV] END C=0.067, dual=True, loss=squared_hinge, max_iter=5000, penalty=l1; total time=   0.0s\n",
      "[CV] END C=0.067, dual=True, loss=squared_hinge, max_iter=5000, penalty=l1; total time=   0.0s\n",
      "[CV] END C=0.067, dual=True, loss=squared_hinge, max_iter=5000, penalty=l1; total time=   0.0s\n",
      "[CV] END C=0.067, dual=True, loss=squared_hinge, max_iter=1000, penalty=l2; total time=   3.7s\n",
      "[CV] END C=0.067, dual=True, loss=squared_hinge, max_iter=1000, penalty=l2; total time=   3.6s\n",
      "[CV] END C=0.067, dual=True, loss=squared_hinge, max_iter=3000, penalty=l2; total time=   3.7s\n",
      "[CV] END C=0.067, dual=True, loss=squared_hinge, max_iter=3000, penalty=l2; total time=   3.7s\n",
      "[CV] END C=0.067, dual=True, loss=squared_hinge, max_iter=3000, penalty=l2; total time=   3.6s\n",
      "[CV] END C=0.0835, dual=True, loss=hinge, max_iter=1000, penalty=l1; total time=   0.0s\n",
      "[CV] END C=0.0835, dual=True, loss=hinge, max_iter=1000, penalty=l1; total time=   0.0s\n",
      "[CV] END C=0.0835, dual=True, loss=hinge, max_iter=1000, penalty=l1; total time=   0.0s\n",
      "[CV] END C=0.0835, dual=True, loss=hinge, max_iter=1000, penalty=l1; total time=   0.0s\n",
      "[CV] END C=0.0835, dual=True, loss=hinge, max_iter=1000, penalty=l1; total time=   0.0s\n"
     ]
    },
    {
     "name": "stderr",
     "output_type": "stream",
     "text": [
      "/home/habkaffee/programming/nlp/nlp_classification/.venv/lib/python3.12/site-packages/sklearn/svm/_base.py:1235: ConvergenceWarning: Liblinear failed to converge, increase the number of iterations.\n",
      "  warnings.warn(\n"
     ]
    },
    {
     "name": "stdout",
     "output_type": "stream",
     "text": [
      "[CV] END C=0.0835, dual=True, loss=hinge, max_iter=1000, penalty=l2; total time=   0.5s\n"
     ]
    },
    {
     "name": "stderr",
     "output_type": "stream",
     "text": [
      "/home/habkaffee/programming/nlp/nlp_classification/.venv/lib/python3.12/site-packages/sklearn/svm/_base.py:1235: ConvergenceWarning: Liblinear failed to converge, increase the number of iterations.\n",
      "  warnings.warn(\n"
     ]
    },
    {
     "name": "stdout",
     "output_type": "stream",
     "text": [
      "[CV] END C=0.0835, dual=True, loss=hinge, max_iter=1000, penalty=l2; total time=   0.5s\n"
     ]
    },
    {
     "name": "stderr",
     "output_type": "stream",
     "text": [
      "/home/habkaffee/programming/nlp/nlp_classification/.venv/lib/python3.12/site-packages/sklearn/svm/_base.py:1235: ConvergenceWarning: Liblinear failed to converge, increase the number of iterations.\n",
      "  warnings.warn(\n"
     ]
    },
    {
     "name": "stdout",
     "output_type": "stream",
     "text": [
      "[CV] END C=0.0835, dual=True, loss=hinge, max_iter=1000, penalty=l2; total time=   0.5s\n"
     ]
    },
    {
     "name": "stderr",
     "output_type": "stream",
     "text": [
      "/home/habkaffee/programming/nlp/nlp_classification/.venv/lib/python3.12/site-packages/sklearn/svm/_base.py:1235: ConvergenceWarning: Liblinear failed to converge, increase the number of iterations.\n",
      "  warnings.warn(\n"
     ]
    },
    {
     "name": "stdout",
     "output_type": "stream",
     "text": [
      "[CV] END C=0.0835, dual=True, loss=hinge, max_iter=1000, penalty=l2; total time=   0.5s\n"
     ]
    },
    {
     "name": "stderr",
     "output_type": "stream",
     "text": [
      "/home/habkaffee/programming/nlp/nlp_classification/.venv/lib/python3.12/site-packages/sklearn/svm/_base.py:1235: ConvergenceWarning: Liblinear failed to converge, increase the number of iterations.\n",
      "  warnings.warn(\n"
     ]
    },
    {
     "name": "stdout",
     "output_type": "stream",
     "text": [
      "[CV] END C=0.0835, dual=True, loss=hinge, max_iter=1000, penalty=l2; total time=   0.4s\n",
      "[CV] END C=0.0835, dual=True, loss=hinge, max_iter=3000, penalty=l1; total time=   0.0s\n",
      "[CV] END C=0.0835, dual=True, loss=hinge, max_iter=3000, penalty=l1; total time=   0.0s\n",
      "[CV] END C=0.0835, dual=True, loss=hinge, max_iter=3000, penalty=l1; total time=   0.0s\n",
      "[CV] END C=0.067, dual=True, loss=squared_hinge, max_iter=3000, penalty=l2; total time=   4.2s\n",
      "[CV] END C=0.0835, dual=True, loss=hinge, max_iter=3000, penalty=l1; total time=   0.0s\n",
      "[CV] END C=0.0835, dual=True, loss=hinge, max_iter=3000, penalty=l1; total time=   0.0s\n",
      "[CV] END C=0.067, dual=True, loss=squared_hinge, max_iter=3000, penalty=l2; total time=   4.5s\n",
      "[CV] END C=0.067, dual=True, loss=squared_hinge, max_iter=5000, penalty=l2; total time=   4.2s\n",
      "[CV] END C=0.067, dual=True, loss=squared_hinge, max_iter=5000, penalty=l2; total time=   4.5s\n"
     ]
    },
    {
     "name": "stderr",
     "output_type": "stream",
     "text": [
      "/home/habkaffee/programming/nlp/nlp_classification/.venv/lib/python3.12/site-packages/sklearn/svm/_base.py:1235: ConvergenceWarning: Liblinear failed to converge, increase the number of iterations.\n",
      "  warnings.warn(\n"
     ]
    },
    {
     "name": "stdout",
     "output_type": "stream",
     "text": [
      "[CV] END C=0.0835, dual=True, loss=hinge, max_iter=3000, penalty=l2; total time=   0.7s\n",
      "[CV] END C=0.067, dual=True, loss=squared_hinge, max_iter=5000, penalty=l2; total time=   4.4s\n",
      "[CV] END C=0.0835, dual=True, loss=hinge, max_iter=5000, penalty=l1; total time=   0.0s\n",
      "[CV] END C=0.0835, dual=True, loss=hinge, max_iter=5000, penalty=l1; total time=   0.0s\n",
      "[CV] END C=0.0835, dual=True, loss=hinge, max_iter=5000, penalty=l1; total time=   0.0s\n",
      "[CV] END C=0.0835, dual=True, loss=hinge, max_iter=5000, penalty=l1; total time=   0.0s\n",
      "[CV] END C=0.0835, dual=True, loss=hinge, max_iter=5000, penalty=l1; total time=   0.0s\n",
      "[CV] END C=0.067, dual=True, loss=squared_hinge, max_iter=5000, penalty=l2; total time=   4.2s\n"
     ]
    },
    {
     "name": "stderr",
     "output_type": "stream",
     "text": [
      "/home/habkaffee/programming/nlp/nlp_classification/.venv/lib/python3.12/site-packages/sklearn/svm/_base.py:1235: ConvergenceWarning: Liblinear failed to converge, increase the number of iterations.\n",
      "  warnings.warn(\n",
      "/home/habkaffee/programming/nlp/nlp_classification/.venv/lib/python3.12/site-packages/sklearn/svm/_base.py:1235: ConvergenceWarning: Liblinear failed to converge, increase the number of iterations.\n",
      "  warnings.warn(\n"
     ]
    },
    {
     "name": "stdout",
     "output_type": "stream",
     "text": [
      "[CV] END C=0.0835, dual=True, loss=hinge, max_iter=3000, penalty=l2; total time=   0.7s\n",
      "[CV] END C=0.067, dual=True, loss=squared_hinge, max_iter=5000, penalty=l2; total time=   4.3s\n",
      "[CV] END C=0.0835, dual=True, loss=hinge, max_iter=3000, penalty=l2; total time=   0.6s\n",
      "[CV] END C=0.0835, dual=True, loss=squared_hinge, max_iter=1000, penalty=l1; total time=   0.0s\n",
      "[CV] END C=0.0835, dual=True, loss=squared_hinge, max_iter=1000, penalty=l1; total time=   0.0s\n",
      "[CV] END C=0.0835, dual=True, loss=hinge, max_iter=3000, penalty=l2; total time=   1.2s\n",
      "[CV] END C=0.0835, dual=True, loss=squared_hinge, max_iter=1000, penalty=l1; total time=   0.0s\n",
      "[CV] END C=0.0835, dual=True, loss=squared_hinge, max_iter=1000, penalty=l1; total time=   0.0s\n",
      "[CV] END C=0.0835, dual=True, loss=hinge, max_iter=3000, penalty=l2; total time=   0.6s\n",
      "[CV] END C=0.0835, dual=True, loss=squared_hinge, max_iter=1000, penalty=l1; total time=   0.0s\n"
     ]
    },
    {
     "name": "stderr",
     "output_type": "stream",
     "text": [
      "/home/habkaffee/programming/nlp/nlp_classification/.venv/lib/python3.12/site-packages/sklearn/svm/_base.py:1235: ConvergenceWarning: Liblinear failed to converge, increase the number of iterations.\n",
      "  warnings.warn(\n"
     ]
    },
    {
     "name": "stdout",
     "output_type": "stream",
     "text": [
      "[CV] END C=0.0835, dual=True, loss=hinge, max_iter=5000, penalty=l2; total time=   1.0s\n",
      "[CV] END C=0.0835, dual=True, loss=hinge, max_iter=5000, penalty=l2; total time=   0.7s\n",
      "[CV] END C=0.0835, dual=True, loss=hinge, max_iter=5000, penalty=l2; total time=   1.2s\n",
      "[CV] END C=0.0835, dual=True, loss=squared_hinge, max_iter=3000, penalty=l1; total time=   0.0s\n",
      "[CV] END C=0.0835, dual=True, loss=squared_hinge, max_iter=3000, penalty=l1; total time=   0.0s\n",
      "[CV] END C=0.0835, dual=True, loss=squared_hinge, max_iter=3000, penalty=l1; total time=   0.0s\n",
      "[CV] END C=0.0835, dual=True, loss=hinge, max_iter=5000, penalty=l2; total time=   1.2s\n",
      "[CV] END C=0.0835, dual=True, loss=squared_hinge, max_iter=3000, penalty=l1; total time=   0.0s\n",
      "[CV] END C=0.0835, dual=True, loss=squared_hinge, max_iter=3000, penalty=l1; total time=   0.0s\n",
      "[CV] END C=0.0835, dual=True, loss=hinge, max_iter=5000, penalty=l2; total time=   1.4s\n",
      "[CV] END C=0.0835, dual=True, loss=squared_hinge, max_iter=1000, penalty=l2; total time=   3.8s\n",
      "[CV] END C=0.0835, dual=True, loss=squared_hinge, max_iter=1000, penalty=l2; total time=   4.1s\n",
      "[CV] END C=0.0835, dual=True, loss=squared_hinge, max_iter=1000, penalty=l2; total time=   4.1s\n",
      "[CV] END C=0.0835, dual=True, loss=squared_hinge, max_iter=5000, penalty=l1; total time=   0.0s\n",
      "[CV] END C=0.0835, dual=True, loss=squared_hinge, max_iter=5000, penalty=l1; total time=   0.0s\n",
      "[CV] END C=0.0835, dual=True, loss=squared_hinge, max_iter=5000, penalty=l1; total time=   0.0s\n",
      "[CV] END C=0.0835, dual=True, loss=squared_hinge, max_iter=5000, penalty=l1; total time=   0.0s\n",
      "[CV] END C=0.0835, dual=True, loss=squared_hinge, max_iter=5000, penalty=l1; total time=   0.0s\n",
      "[CV] END C=0.0835, dual=True, loss=squared_hinge, max_iter=1000, penalty=l2; total time=   4.0s\n",
      "[CV] END C=0.0835, dual=True, loss=squared_hinge, max_iter=1000, penalty=l2; total time=   4.1s\n",
      "[CV] END C=0.0835, dual=True, loss=squared_hinge, max_iter=3000, penalty=l2; total time=   4.0s\n",
      "[CV] END C=0.0835, dual=True, loss=squared_hinge, max_iter=3000, penalty=l2; total time=   4.1s\n",
      "[CV] END C=0.0835, dual=True, loss=squared_hinge, max_iter=3000, penalty=l2; total time=   3.9s\n",
      "[CV] END C=0.1, dual=True, loss=hinge, max_iter=1000, penalty=l1; total time=   0.0s\n",
      "[CV] END C=0.1, dual=True, loss=hinge, max_iter=1000, penalty=l1; total time=   0.0s\n",
      "[CV] END C=0.1, dual=True, loss=hinge, max_iter=1000, penalty=l1; total time=   0.0s\n",
      "[CV] END C=0.1, dual=True, loss=hinge, max_iter=1000, penalty=l1; total time=   0.0s\n",
      "[CV] END C=0.1, dual=True, loss=hinge, max_iter=1000, penalty=l1; total time=   0.0s\n"
     ]
    },
    {
     "name": "stderr",
     "output_type": "stream",
     "text": [
      "/home/habkaffee/programming/nlp/nlp_classification/.venv/lib/python3.12/site-packages/sklearn/svm/_base.py:1235: ConvergenceWarning: Liblinear failed to converge, increase the number of iterations.\n",
      "  warnings.warn(\n"
     ]
    },
    {
     "name": "stdout",
     "output_type": "stream",
     "text": [
      "[CV] END C=0.1, dual=True, loss=hinge, max_iter=1000, penalty=l2; total time=   0.4s\n"
     ]
    },
    {
     "name": "stderr",
     "output_type": "stream",
     "text": [
      "/home/habkaffee/programming/nlp/nlp_classification/.venv/lib/python3.12/site-packages/sklearn/svm/_base.py:1235: ConvergenceWarning: Liblinear failed to converge, increase the number of iterations.\n",
      "  warnings.warn(\n"
     ]
    },
    {
     "name": "stdout",
     "output_type": "stream",
     "text": [
      "[CV] END C=0.1, dual=True, loss=hinge, max_iter=1000, penalty=l2; total time=   2.6s\n"
     ]
    },
    {
     "name": "stderr",
     "output_type": "stream",
     "text": [
      "/home/habkaffee/programming/nlp/nlp_classification/.venv/lib/python3.12/site-packages/sklearn/svm/_base.py:1235: ConvergenceWarning: Liblinear failed to converge, increase the number of iterations.\n",
      "  warnings.warn(\n"
     ]
    },
    {
     "name": "stdout",
     "output_type": "stream",
     "text": [
      "[CV] END C=0.1, dual=True, loss=hinge, max_iter=1000, penalty=l2; total time=   0.5s\n"
     ]
    },
    {
     "name": "stderr",
     "output_type": "stream",
     "text": [
      "/home/habkaffee/programming/nlp/nlp_classification/.venv/lib/python3.12/site-packages/sklearn/svm/_base.py:1235: ConvergenceWarning: Liblinear failed to converge, increase the number of iterations.\n",
      "  warnings.warn(\n"
     ]
    },
    {
     "name": "stdout",
     "output_type": "stream",
     "text": [
      "[CV] END C=0.1, dual=True, loss=hinge, max_iter=1000, penalty=l2; total time=   0.4s\n"
     ]
    },
    {
     "name": "stderr",
     "output_type": "stream",
     "text": [
      "/home/habkaffee/programming/nlp/nlp_classification/.venv/lib/python3.12/site-packages/sklearn/svm/_base.py:1235: ConvergenceWarning: Liblinear failed to converge, increase the number of iterations.\n",
      "  warnings.warn(\n"
     ]
    },
    {
     "name": "stdout",
     "output_type": "stream",
     "text": [
      "[CV] END C=0.1, dual=True, loss=hinge, max_iter=1000, penalty=l2; total time=   0.4s\n",
      "[CV] END C=0.1, dual=True, loss=hinge, max_iter=3000, penalty=l1; total time=   0.0s\n",
      "[CV] END C=0.1, dual=True, loss=hinge, max_iter=3000, penalty=l1; total time=   0.0s\n",
      "[CV] END C=0.1, dual=True, loss=hinge, max_iter=3000, penalty=l1; total time=   0.0s\n",
      "[CV] END C=0.1, dual=True, loss=hinge, max_iter=3000, penalty=l1; total time=   0.0s\n",
      "[CV] END C=0.1, dual=True, loss=hinge, max_iter=3000, penalty=l1; total time=   0.0s\n"
     ]
    },
    {
     "name": "stderr",
     "output_type": "stream",
     "text": [
      "/home/habkaffee/programming/nlp/nlp_classification/.venv/lib/python3.12/site-packages/sklearn/svm/_base.py:1235: ConvergenceWarning: Liblinear failed to converge, increase the number of iterations.\n",
      "  warnings.warn(\n"
     ]
    },
    {
     "name": "stdout",
     "output_type": "stream",
     "text": [
      "[CV] END C=0.1, dual=True, loss=hinge, max_iter=3000, penalty=l2; total time=   0.5s\n",
      "[CV] END C=0.0835, dual=True, loss=squared_hinge, max_iter=3000, penalty=l2; total time=   6.5s\n",
      "[CV] END C=0.0835, dual=True, loss=squared_hinge, max_iter=3000, penalty=l2; total time=   6.3s\n"
     ]
    },
    {
     "name": "stderr",
     "output_type": "stream",
     "text": [
      "/home/habkaffee/programming/nlp/nlp_classification/.venv/lib/python3.12/site-packages/sklearn/svm/_base.py:1235: ConvergenceWarning: Liblinear failed to converge, increase the number of iterations.\n",
      "  warnings.warn(\n",
      "/home/habkaffee/programming/nlp/nlp_classification/.venv/lib/python3.12/site-packages/sklearn/svm/_base.py:1235: ConvergenceWarning: Liblinear failed to converge, increase the number of iterations.\n",
      "  warnings.warn(\n",
      "/home/habkaffee/programming/nlp/nlp_classification/.venv/lib/python3.12/site-packages/sklearn/svm/_base.py:1235: ConvergenceWarning: Liblinear failed to converge, increase the number of iterations.\n",
      "  warnings.warn(\n"
     ]
    },
    {
     "name": "stdout",
     "output_type": "stream",
     "text": [
      "[CV] END C=0.1, dual=True, loss=hinge, max_iter=3000, penalty=l2; total time=   0.5s\n",
      "[CV] END C=0.1, dual=True, loss=hinge, max_iter=3000, penalty=l2; total time=   0.4s\n",
      "[CV] END C=0.0835, dual=True, loss=squared_hinge, max_iter=5000, penalty=l2; total time=   6.2s\n",
      "[CV] END C=0.1, dual=True, loss=hinge, max_iter=5000, penalty=l1; total time=   0.0s\n",
      "[CV] END C=0.1, dual=True, loss=hinge, max_iter=3000, penalty=l2; total time=   0.5s\n",
      "[CV] END C=0.1, dual=True, loss=hinge, max_iter=5000, penalty=l1; total time=   0.0s\n",
      "[CV] END C=0.1, dual=True, loss=hinge, max_iter=5000, penalty=l1; total time=   0.0s\n",
      "[CV] END C=0.1, dual=True, loss=hinge, max_iter=5000, penalty=l1; total time=   0.0s\n",
      "[CV] END C=0.1, dual=True, loss=hinge, max_iter=5000, penalty=l1; total time=   0.0s\n",
      "[CV] END C=0.0835, dual=True, loss=squared_hinge, max_iter=5000, penalty=l2; total time=   6.6s\n",
      "[CV] END C=0.0835, dual=True, loss=squared_hinge, max_iter=5000, penalty=l2; total time=   6.4s\n",
      "[CV] END C=0.0835, dual=True, loss=squared_hinge, max_iter=5000, penalty=l2; total time=   6.2s\n",
      "[CV] END C=0.1, dual=True, loss=squared_hinge, max_iter=1000, penalty=l1; total time=   0.0s\n",
      "[CV] END C=0.1, dual=True, loss=squared_hinge, max_iter=1000, penalty=l1; total time=   0.0s\n",
      "[CV] END C=0.1, dual=True, loss=hinge, max_iter=3000, penalty=l2; total time=   0.5s\n",
      "[CV] END C=0.1, dual=True, loss=squared_hinge, max_iter=1000, penalty=l1; total time=   0.0s\n",
      "[CV] END C=0.1, dual=True, loss=squared_hinge, max_iter=1000, penalty=l1; total time=   0.0s\n",
      "[CV] END C=0.1, dual=True, loss=squared_hinge, max_iter=1000, penalty=l1; total time=   0.0s\n",
      "[CV] END C=0.0835, dual=True, loss=squared_hinge, max_iter=5000, penalty=l2; total time=   6.4s\n"
     ]
    },
    {
     "name": "stderr",
     "output_type": "stream",
     "text": [
      "/home/habkaffee/programming/nlp/nlp_classification/.venv/lib/python3.12/site-packages/sklearn/svm/_base.py:1235: ConvergenceWarning: Liblinear failed to converge, increase the number of iterations.\n",
      "  warnings.warn(\n",
      "/home/habkaffee/programming/nlp/nlp_classification/.venv/lib/python3.12/site-packages/sklearn/svm/_base.py:1235: ConvergenceWarning: Liblinear failed to converge, increase the number of iterations.\n",
      "  warnings.warn(\n"
     ]
    },
    {
     "name": "stdout",
     "output_type": "stream",
     "text": [
      "[CV] END C=0.1, dual=True, loss=hinge, max_iter=5000, penalty=l2; total time=   0.6s\n",
      "[CV] END C=0.1, dual=True, loss=hinge, max_iter=5000, penalty=l2; total time=   0.6s\n",
      "[CV] END C=0.1, dual=True, loss=hinge, max_iter=5000, penalty=l2; total time=   0.6s\n",
      "[CV] END C=0.1, dual=True, loss=squared_hinge, max_iter=3000, penalty=l1; total time=   0.0s\n",
      "[CV] END C=0.1, dual=True, loss=squared_hinge, max_iter=3000, penalty=l1; total time=   0.0s\n",
      "[CV] END C=0.1, dual=True, loss=squared_hinge, max_iter=3000, penalty=l1; total time=   0.0s\n",
      "[CV] END C=0.1, dual=True, loss=squared_hinge, max_iter=3000, penalty=l1; total time=   0.0s\n",
      "[CV] END C=0.1, dual=True, loss=hinge, max_iter=5000, penalty=l2; total time=   0.8s\n",
      "[CV] END C=0.1, dual=True, loss=squared_hinge, max_iter=3000, penalty=l1; total time=   0.0s\n"
     ]
    },
    {
     "name": "stderr",
     "output_type": "stream",
     "text": [
      "/home/habkaffee/programming/nlp/nlp_classification/.venv/lib/python3.12/site-packages/sklearn/svm/_base.py:1235: ConvergenceWarning: Liblinear failed to converge, increase the number of iterations.\n",
      "  warnings.warn(\n",
      "/home/habkaffee/programming/nlp/nlp_classification/.venv/lib/python3.12/site-packages/sklearn/svm/_base.py:1235: ConvergenceWarning: Liblinear failed to converge, increase the number of iterations.\n",
      "  warnings.warn(\n"
     ]
    },
    {
     "name": "stdout",
     "output_type": "stream",
     "text": [
      "[CV] END C=0.1, dual=True, loss=hinge, max_iter=5000, penalty=l2; total time=   0.8s\n",
      "[CV] END C=0.1, dual=True, loss=squared_hinge, max_iter=1000, penalty=l2; total time=   4.4s\n",
      "[CV] END C=0.1, dual=True, loss=squared_hinge, max_iter=1000, penalty=l2; total time=   4.6s\n",
      "[CV] END C=0.1, dual=True, loss=squared_hinge, max_iter=1000, penalty=l2; total time=   4.6s\n",
      "[CV] END C=0.1, dual=True, loss=squared_hinge, max_iter=5000, penalty=l1; total time=   0.0s\n",
      "[CV] END C=0.1, dual=True, loss=squared_hinge, max_iter=5000, penalty=l1; total time=   0.0s\n",
      "[CV] END C=0.1, dual=True, loss=squared_hinge, max_iter=5000, penalty=l1; total time=   0.0s\n",
      "[CV] END C=0.1, dual=True, loss=squared_hinge, max_iter=5000, penalty=l1; total time=   0.0s\n",
      "[CV] END C=0.1, dual=True, loss=squared_hinge, max_iter=5000, penalty=l1; total time=   0.0s\n",
      "[CV] END C=0.1, dual=True, loss=squared_hinge, max_iter=1000, penalty=l2; total time=   4.6s\n",
      "[CV] END C=0.1, dual=True, loss=squared_hinge, max_iter=3000, penalty=l2; total time=   4.3s\n",
      "[CV] END C=0.1, dual=True, loss=squared_hinge, max_iter=1000, penalty=l2; total time=   4.6s\n",
      "[CV] END C=0.1, dual=True, loss=squared_hinge, max_iter=3000, penalty=l2; total time=   4.6s\n",
      "[CV] END C=0.1, dual=True, loss=squared_hinge, max_iter=3000, penalty=l2; total time=   4.7s\n",
      "[CV] END C=0.1, dual=True, loss=squared_hinge, max_iter=3000, penalty=l2; total time=   4.3s\n",
      "[CV] END C=0.1, dual=True, loss=squared_hinge, max_iter=5000, penalty=l2; total time=   3.9s\n",
      "[CV] END C=0.1, dual=True, loss=squared_hinge, max_iter=3000, penalty=l2; total time=   4.2s\n",
      "[CV] END C=0.1, dual=True, loss=squared_hinge, max_iter=5000, penalty=l2; total time=   4.0s\n",
      "[CV] END C=0.1, dual=True, loss=squared_hinge, max_iter=5000, penalty=l2; total time=   4.1s\n",
      "[CV] END C=0.1, dual=True, loss=squared_hinge, max_iter=5000, penalty=l2; total time=   4.0s\n",
      "[CV] END C=0.1, dual=True, loss=squared_hinge, max_iter=5000, penalty=l2; total time=   3.9s\n"
     ]
    },
    {
     "name": "stderr",
     "output_type": "stream",
     "text": [
      "/home/habkaffee/programming/nlp/nlp_classification/.venv/lib/python3.12/site-packages/sklearn/model_selection/_validation.py:540: FitFailedWarning: \n",
      "210 fits failed out of a total of 420.\n",
      "The score on these train-test partitions for these parameters will be set to 0.\n",
      "If these failures are not expected, you can try to debug them by setting error_score='raise'.\n",
      "\n",
      "Below are more details about the failures:\n",
      "--------------------------------------------------------------------------------\n",
      "105 fits failed with the following error:\n",
      "Traceback (most recent call last):\n",
      "  File \"/home/habkaffee/programming/nlp/nlp_classification/.venv/lib/python3.12/site-packages/sklearn/model_selection/_validation.py\", line 888, in _fit_and_score\n",
      "    estimator.fit(X_train, y_train, **fit_params)\n",
      "  File \"/home/habkaffee/programming/nlp/nlp_classification/.venv/lib/python3.12/site-packages/sklearn/base.py\", line 1473, in wrapper\n",
      "    return fit_method(estimator, *args, **kwargs)\n",
      "           ^^^^^^^^^^^^^^^^^^^^^^^^^^^^^^^^^^^^^^\n",
      "  File \"/home/habkaffee/programming/nlp/nlp_classification/.venv/lib/python3.12/site-packages/sklearn/svm/_classes.py\", line 317, in fit\n",
      "    self.coef_, self.intercept_, n_iter_ = _fit_liblinear(\n",
      "                                           ^^^^^^^^^^^^^^^\n",
      "  File \"/home/habkaffee/programming/nlp/nlp_classification/.venv/lib/python3.12/site-packages/sklearn/svm/_base.py\", line 1214, in _fit_liblinear\n",
      "    solver_type = _get_liblinear_solver_type(multi_class, penalty, loss, dual)\n",
      "                  ^^^^^^^^^^^^^^^^^^^^^^^^^^^^^^^^^^^^^^^^^^^^^^^^^^^^^^^^^^^^\n",
      "  File \"/home/habkaffee/programming/nlp/nlp_classification/.venv/lib/python3.12/site-packages/sklearn/svm/_base.py\", line 1046, in _get_liblinear_solver_type\n",
      "    raise ValueError(\n",
      "ValueError: Unsupported set of arguments: The combination of penalty='l1' and loss='hinge' is not supported, Parameters: penalty='l1', loss='hinge', dual=True\n",
      "\n",
      "--------------------------------------------------------------------------------\n",
      "105 fits failed with the following error:\n",
      "Traceback (most recent call last):\n",
      "  File \"/home/habkaffee/programming/nlp/nlp_classification/.venv/lib/python3.12/site-packages/sklearn/model_selection/_validation.py\", line 888, in _fit_and_score\n",
      "    estimator.fit(X_train, y_train, **fit_params)\n",
      "  File \"/home/habkaffee/programming/nlp/nlp_classification/.venv/lib/python3.12/site-packages/sklearn/base.py\", line 1473, in wrapper\n",
      "    return fit_method(estimator, *args, **kwargs)\n",
      "           ^^^^^^^^^^^^^^^^^^^^^^^^^^^^^^^^^^^^^^\n",
      "  File \"/home/habkaffee/programming/nlp/nlp_classification/.venv/lib/python3.12/site-packages/sklearn/svm/_classes.py\", line 317, in fit\n",
      "    self.coef_, self.intercept_, n_iter_ = _fit_liblinear(\n",
      "                                           ^^^^^^^^^^^^^^^\n",
      "  File \"/home/habkaffee/programming/nlp/nlp_classification/.venv/lib/python3.12/site-packages/sklearn/svm/_base.py\", line 1214, in _fit_liblinear\n",
      "    solver_type = _get_liblinear_solver_type(multi_class, penalty, loss, dual)\n",
      "                  ^^^^^^^^^^^^^^^^^^^^^^^^^^^^^^^^^^^^^^^^^^^^^^^^^^^^^^^^^^^^\n",
      "  File \"/home/habkaffee/programming/nlp/nlp_classification/.venv/lib/python3.12/site-packages/sklearn/svm/_base.py\", line 1046, in _get_liblinear_solver_type\n",
      "    raise ValueError(\n",
      "ValueError: Unsupported set of arguments: The combination of penalty='l1' and loss='squared_hinge' are not supported when dual=True, Parameters: penalty='l1', loss='squared_hinge', dual=True\n",
      "\n",
      "  warnings.warn(some_fits_failed_message, FitFailedWarning)\n"
     ]
    },
    {
     "name": "stdout",
     "output_type": "stream",
     "text": [
      "Best estimator -> LinearSVC(C=0.1, dual=True)\n",
      "Best Score -> 0.859889042995839\n",
      "Best Parameters -> {'C': 0.1, 'dual': True, 'loss': 'squared_hinge', 'max_iter': 1000, 'penalty': 'l2'}\n",
      "Best index -> 79\n"
     ]
    }
   ],
   "source": [
    "parameters_linSVC = {\n",
    "    'penalty': ['l1', 'l2'],\n",
    "    'loss': ['hinge', 'squared_hinge'],\n",
    "    'C': np.linspace(0.001, 0.1, 7),\n",
    "    'max_iter': [1000, 3000, 5000],\n",
    "    'dual':[True]\n",
    "}\n",
    "\n",
    "grid_linearSVC = get_gridsearch_for_model(LinearSVC(), parameters_linSVC)\n",
    "\n",
    "grid_linearSVC.fit(X_train, Y_train)\n",
    "print_grid_search_info(grid_linearSVC)"
   ]
  },
  {
   "cell_type": "code",
   "execution_count": 55,
   "metadata": {},
   "outputs": [
    {
     "name": "stdout",
     "output_type": "stream",
     "text": [
      "accuracy_score = 0.8579512357493551\n",
      "f1_micro = 0.8579512357493551\n",
      "recall_score = 0.8504392472228938\n",
      "precision_score = 0.8583893691685066\n"
     ]
    }
   ],
   "source": [
    "Y_pred_linSVC = grid_linearSVC.predict(X_test)\n",
    "print_metrics(Y_test, Y_pred_linSVC)"
   ]
  },
  {
   "cell_type": "code",
   "execution_count": 56,
   "metadata": {},
   "outputs": [
    {
     "data": {
      "image/png": "[encoded data removed]",
      "text/plain": [
       "<Figure size 640x480 with 2 Axes>"
      ]
     },
     "metadata": {},
     "output_type": "display_data"
    }
   ],
   "source": [
    "display_conf_matrix(Y_test, Y_pred_logreg, Y)"
   ]
  },
  {
   "cell_type": "code",
   "execution_count": 57,
   "metadata": {},
   "outputs": [
    {
     "data": {
      "image/png": "[encoded data removed]",
      "text/plain": [
       "<Figure size 640x480 with 2 Axes>"
      ]
     },
     "metadata": {},
     "output_type": "display_data"
    }
   ],
   "source": [
    "display_conf_matrix(Y_test, Y_pred_linSVC, Y)"
   ]
  },
  {
   "cell_type": "markdown",
   "metadata": {},
   "source": [
    "И linear SVC, и logistic regression отрабатывают примерно одинаково и допускают много ошибок при классификации. Это связано с тем, что часто в негативных и позитивных отзывах используются схожие конструкции и слова"
   ]
  },
  {
   "cell_type": "markdown",
   "metadata": {},
   "source": [
    "# NN Models"
   ]
  },
  {
   "cell_type": "markdown",
   "metadata": {},
   "source": [
    "## Fully connected"
   ]
  },
  {
   "cell_type": "code",
   "execution_count": 58,
   "metadata": {},
   "outputs": [],
   "source": [
    "import torch\n",
    "import torch.nn as nn\n",
    "import torch.optim as optim\n",
    "\n",
    "class FC_binary(nn.Module):\n",
    "    def __init__(self, input_dim, hidden_dim, output_dim):\n",
    "        super().__init__()\n",
    "        self.fc1 = nn.Linear(input_dim, hidden_dim)\n",
    "        self.relu = nn.ReLU()\n",
    "        self.fc2 = nn.Linear(hidden_dim, output_dim)\n",
    "        self.activation = nn.Sigmoid()\n",
    "        \n",
    "    def forward(self, x):\n",
    "        out = self.fc1(x)\n",
    "        out = self.relu(out)\n",
    "        out = self.fc2(out)\n",
    "        out = self.activation(out)\n",
    "        return out"
   ]
  },
  {
   "cell_type": "code",
   "execution_count": 59,
   "metadata": {},
   "outputs": [
    {
     "name": "stdout",
     "output_type": "stream",
     "text": [
      "Used device -> cuda\n"
     ]
    }
   ],
   "source": [
    "vector_size = 100\n",
    "hidden_dim = 64\n",
    "output_dim = 1\n",
    "learning_rate = 0.001\n",
    "device = 'cuda' if torch.cuda.is_available() else 'cpu'\n",
    "print(f'Used device -> {device}')\n",
    "\n",
    "fc_bin = FC_binary(vector_size, hidden_dim, output_dim)\n",
    "criterion = nn.BCELoss()\n",
    "optimizer = optim.Adam(fc_bin.parameters(), lr=learning_rate)"
   ]
  },
  {
   "cell_type": "code",
   "execution_count": 60,
   "metadata": {},
   "outputs": [],
   "source": [
    "X_train_nn = torch.tensor(X_train, dtype=torch.float32)\n",
    "X_test_nn = torch.tensor(X_test, dtype=torch.float32)\n",
    "Y_train_nn = torch.tensor(Y_train.to_numpy(), dtype=torch.float32)\n",
    "Y_test_nn = torch.tensor(Y_test.to_numpy(), dtype=torch.float32)"
   ]
  },
  {
   "cell_type": "code",
   "execution_count": 61,
   "metadata": {},
   "outputs": [
    {
     "data": {
      "text/plain": [
       "FC_binary(\n",
       "  (fc1): Linear(in_features=100, out_features=64, bias=True)\n",
       "  (relu): ReLU()\n",
       "  (fc2): Linear(in_features=64, out_features=1, bias=True)\n",
       "  (activation): Sigmoid()\n",
       ")"
      ]
     },
     "execution_count": 61,
     "metadata": {},
     "output_type": "execute_result"
    }
   ],
   "source": [
    "fc_bin.to(device=device)"
   ]
  },
  {
   "cell_type": "code",
   "execution_count": 62,
   "metadata": {},
   "outputs": [],
   "source": [
    "num_epochs = 100\n",
    "batch_size = 32\n",
    "train_data = torch.utils.data.TensorDataset(X_train_nn, Y_train_nn)\n",
    "train_loader = torch.utils.data.DataLoader(train_data, batch_size=batch_size, shuffle=True)"
   ]
  },
  {
   "cell_type": "code",
   "execution_count": 63,
   "metadata": {},
   "outputs": [
    {
     "name": "stdout",
     "output_type": "stream",
     "text": [
      "Epoch 1/100, Loss: 0.36027650382392895\n",
      "Epoch 2/100, Loss: 0.33237632765982567\n",
      "Epoch 3/100, Loss: 0.3246369982582865\n",
      "Epoch 4/100, Loss: 0.31984774211046435\n",
      "Epoch 5/100, Loss: 0.31595341911491504\n",
      "Epoch 6/100, Loss: 0.31303116886776533\n",
      "Epoch 7/100, Loss: 0.3104856108656581\n",
      "Epoch 8/100, Loss: 0.30855044339119914\n",
      "Epoch 9/100, Loss: 0.30724823922447747\n",
      "Epoch 10/100, Loss: 0.3051706393709623\n",
      "Epoch 11/100, Loss: 0.30338438039690174\n",
      "Epoch 12/100, Loss: 0.3021234356415621\n",
      "Epoch 13/100, Loss: 0.3013994264240379\n",
      "Epoch 14/100, Loss: 0.29950992461581516\n",
      "Epoch 15/100, Loss: 0.2983772571809332\n",
      "Epoch 16/100, Loss: 0.2973545715212822\n",
      "Epoch 17/100, Loss: 0.2963282409807487\n",
      "Epoch 18/100, Loss: 0.29520607729770487\n",
      "Epoch 19/100, Loss: 0.29424222930274185\n",
      "Epoch 20/100, Loss: 0.2940121881842296\n",
      "Epoch 21/100, Loss: 0.29330358416926255\n",
      "Epoch 22/100, Loss: 0.2917853343600495\n",
      "Epoch 23/100, Loss: 0.29114438220528027\n",
      "Epoch 24/100, Loss: 0.2906495445501307\n",
      "Epoch 25/100, Loss: 0.28933863951341177\n",
      "Epoch 26/100, Loss: 0.2892151659266972\n",
      "Epoch 27/100, Loss: 0.28784766132152495\n",
      "Epoch 28/100, Loss: 0.287490780904109\n",
      "Epoch 29/100, Loss: 0.2866060762222403\n",
      "Epoch 30/100, Loss: 0.2863505258296799\n",
      "Epoch 31/100, Loss: 0.2854600246820496\n",
      "Epoch 32/100, Loss: 0.2848403646966844\n",
      "Epoch 33/100, Loss: 0.28433537028379535\n",
      "Epoch 34/100, Loss: 0.28327365717400255\n",
      "Epoch 35/100, Loss: 0.28264780079461665\n",
      "Epoch 36/100, Loss: 0.2820785122112881\n",
      "Epoch 37/100, Loss: 0.2814426058581051\n",
      "Epoch 38/100, Loss: 0.28111637632933567\n",
      "Epoch 39/100, Loss: 0.28065806147646566\n",
      "Epoch 40/100, Loss: 0.2802657582916934\n",
      "Epoch 41/100, Loss: 0.2789657921683185\n",
      "Epoch 42/100, Loss: 0.2788320595420031\n",
      "Epoch 43/100, Loss: 0.27803393078351457\n",
      "Epoch 44/100, Loss: 0.27739088925489197\n",
      "Epoch 45/100, Loss: 0.2770586751579921\n",
      "Epoch 46/100, Loss: 0.2764061410062696\n",
      "Epoch 47/100, Loss: 0.276343518625135\n",
      "Epoch 48/100, Loss: 0.27535952471639585\n",
      "Epoch 49/100, Loss: 0.2752857266560845\n",
      "Epoch 50/100, Loss: 0.2742653778112083\n",
      "Epoch 51/100, Loss: 0.27424004166234145\n",
      "Epoch 52/100, Loss: 0.2740929635851491\n",
      "Epoch 53/100, Loss: 0.27303790789636345\n",
      "Epoch 54/100, Loss: 0.27261745185321057\n",
      "Epoch 55/100, Loss: 0.2720385732025093\n",
      "Epoch 56/100, Loss: 0.27090518994334534\n",
      "Epoch 57/100, Loss: 0.27083036166011704\n",
      "Epoch 58/100, Loss: 0.27063993710657613\n",
      "Epoch 59/100, Loss: 0.2700297228641603\n",
      "Epoch 60/100, Loss: 0.2699661780191716\n",
      "Epoch 61/100, Loss: 0.2690732219283731\n",
      "Epoch 62/100, Loss: 0.2692643319320234\n",
      "Epoch 63/100, Loss: 0.2683052171183669\n",
      "Epoch 64/100, Loss: 0.2682954996440827\n",
      "Epoch 65/100, Loss: 0.2673735095199591\n",
      "Epoch 66/100, Loss: 0.26675868801237107\n",
      "Epoch 67/100, Loss: 0.2662494692558087\n",
      "Epoch 68/100, Loss: 0.2659065544790363\n",
      "Epoch 69/100, Loss: 0.265903821107605\n",
      "Epoch 70/100, Loss: 0.2650834915774421\n",
      "Epoch 71/100, Loss: 0.26454097419950745\n",
      "Epoch 72/100, Loss: 0.2641434047731448\n",
      "Epoch 73/100, Loss: 0.2640080346586224\n",
      "Epoch 74/100, Loss: 0.2634626615663599\n",
      "Epoch 75/100, Loss: 0.26305314154755044\n",
      "Epoch 76/100, Loss: 0.2630229535237444\n",
      "Epoch 77/100, Loss: 0.26315445845621077\n",
      "Epoch 78/100, Loss: 0.26183961765855523\n",
      "Epoch 79/100, Loss: 0.2619088232127194\n",
      "Epoch 80/100, Loss: 0.2616609590394156\n",
      "Epoch 81/100, Loss: 0.2619276299226464\n",
      "Epoch 82/100, Loss: 0.26096916717031726\n",
      "Epoch 83/100, Loss: 0.26026720854436386\n",
      "Epoch 84/100, Loss: 0.26024623647556966\n",
      "Epoch 85/100, Loss: 0.2597052269675558\n",
      "Epoch 86/100, Loss: 0.25979688479676644\n",
      "Epoch 87/100, Loss: 0.25864395017288594\n",
      "Epoch 88/100, Loss: 0.2578757778669525\n",
      "Epoch 89/100, Loss: 0.2584415936202948\n",
      "Epoch 90/100, Loss: 0.25775289016560105\n",
      "Epoch 91/100, Loss: 0.25768464019963355\n",
      "Epoch 92/100, Loss: 0.25710331552728893\n",
      "Epoch 93/100, Loss: 0.256774387698366\n",
      "Epoch 94/100, Loss: 0.25625009454304176\n",
      "Epoch 95/100, Loss: 0.2562477869686556\n",
      "Epoch 96/100, Loss: 0.25647844912314055\n",
      "Epoch 97/100, Loss: 0.25533703973098676\n",
      "Epoch 98/100, Loss: 0.2568231826646463\n",
      "Epoch 99/100, Loss: 0.2543379149094766\n",
      "Epoch 100/100, Loss: 0.25431968486589357\n"
     ]
    }
   ],
   "source": [
    "for epoch in range(num_epochs):\n",
    "    fc_bin.train()\n",
    "    total_loss = 0\n",
    "    for X_batch, Y_batch in train_loader:\n",
    "        X_batch = X_batch.to(device=device)\n",
    "        Y_batch = Y_batch.to(device=device)\n",
    "        \n",
    "        outputs = fc_bin(X_batch).squeeze(1)\n",
    "        loss = criterion(outputs, Y_batch)\n",
    "\n",
    "        optimizer.zero_grad()\n",
    "        loss.backward()\n",
    "        optimizer.step()\n",
    "\n",
    "        total_loss += loss.item()\n",
    "\n",
    "    print(f'Epoch {epoch+1}/{num_epochs}, Loss: {total_loss/len(train_loader)}')\n"
   ]
  },
  {
   "cell_type": "code",
   "execution_count": 64,
   "metadata": {},
   "outputs": [
    {
     "name": "stdout",
     "output_type": "stream",
     "text": [
      "Test Accuracy: 0.86544067\n"
     ]
    }
   ],
   "source": [
    "fc_bin.eval()\n",
    "X_test_nn = X_test_nn.to(device=device)\n",
    "Y_test_nn = Y_test_nn.to(device=device)\n",
    "with torch.no_grad():\n",
    "    outputs = fc_bin(X_test_nn).squeeze(1)\n",
    "    predictions = (outputs > 0.5).float()\n",
    "    accuracy = (predictions == Y_test_nn).float().mean()\n",
    "    print(f'Test Accuracy: {accuracy:.8f}')\n",
    "    \n",
    "torch.save(fc_bin.state_dict(), f'./models/fc_test_{accuracy:.5f}.pth')"
   ]
  },
  {
   "cell_type": "markdown",
   "metadata": {},
   "source": [
    "## CNN Classifier"
   ]
  },
  {
   "cell_type": "code",
   "execution_count": 65,
   "metadata": {},
   "outputs": [],
   "source": [
    "class CNNTextClassifier(nn.Module):\n",
    "    def __init__(self, embedding_dim, num_filters, filter_sizes, output_dim, dropout=0.5):\n",
    "        super().__init__()\n",
    "        \n",
    "        self.convs = nn.ModuleList([\n",
    "            nn.Conv1d(in_channels=1, out_channels=num_filters, kernel_size=fs) for fs in filter_sizes\n",
    "        ])\n",
    "        \n",
    "        self.fc = nn.Linear(len(filter_sizes) * num_filters, output_dim)\n",
    "\n",
    "        self.dropout = nn.Dropout(dropout)\n",
    "    \n",
    "    def forward(self, x):\n",
    "        x = x.unsqueeze(1)\n",
    "        \n",
    "        conved = [torch.relu(conv(x)) for conv in self.convs]\n",
    "        pooled = [torch.max(c, dim=2)[0] for c in conved] # Max pooling over dims\n",
    "        \n",
    "        cat = torch.cat(pooled, dim=1)\n",
    "        cat = self.dropout(cat)\n",
    "        \n",
    "        output = self.fc(cat)\n",
    "        \n",
    "        return torch.sigmoid(output).squeeze(1)\n",
    "\n"
   ]
  },
  {
   "cell_type": "code",
   "execution_count": 66,
   "metadata": {},
   "outputs": [],
   "source": [
    "vector_size = 100\n",
    "num_filters = 100\n",
    "filter_sizes = [3, 4, 5]  # Filter sizes for 3-grams, 4-grams, and 5-grams\n",
    "output_dim = 1 \n",
    "dropout = 0.5"
   ]
  },
  {
   "cell_type": "code",
   "execution_count": 67,
   "metadata": {},
   "outputs": [],
   "source": [
    "CNN_bin = CNNTextClassifier(vector_size, num_filters, filter_sizes, output_dim, dropout)\n",
    "criterion = nn.BCELoss()\n",
    "optimizer = optim.Adam(CNN_bin.parameters(), lr=learning_rate)"
   ]
  },
  {
   "cell_type": "code",
   "execution_count": 68,
   "metadata": {},
   "outputs": [
    {
     "data": {
      "text/plain": [
       "CNNTextClassifier(\n",
       "  (convs): ModuleList(\n",
       "    (0): Conv1d(1, 100, kernel_size=(3,), stride=(1,))\n",
       "    (1): Conv1d(1, 100, kernel_size=(4,), stride=(1,))\n",
       "    (2): Conv1d(1, 100, kernel_size=(5,), stride=(1,))\n",
       "  )\n",
       "  (fc): Linear(in_features=300, out_features=1, bias=True)\n",
       "  (dropout): Dropout(p=0.5, inplace=False)\n",
       ")"
      ]
     },
     "execution_count": 68,
     "metadata": {},
     "output_type": "execute_result"
    }
   ],
   "source": [
    "CNN_bin.to(device=device)"
   ]
  },
  {
   "cell_type": "code",
   "execution_count": 69,
   "metadata": {},
   "outputs": [
    {
     "name": "stdout",
     "output_type": "stream",
     "text": [
      "Epoch 1/50, Loss: 0.5638\n",
      "Epoch 2/50, Loss: 0.5003\n",
      "Epoch 3/50, Loss: 0.4906\n",
      "Epoch 4/50, Loss: 0.4797\n",
      "Epoch 5/50, Loss: 0.4764\n",
      "Epoch 6/50, Loss: 0.4743\n",
      "Epoch 7/50, Loss: 0.4683\n",
      "Epoch 8/50, Loss: 0.4651\n",
      "Epoch 9/50, Loss: 0.4618\n",
      "Epoch 10/50, Loss: 0.4613\n",
      "Epoch 11/50, Loss: 0.4586\n",
      "Epoch 12/50, Loss: 0.4564\n",
      "Epoch 13/50, Loss: 0.4591\n",
      "Epoch 14/50, Loss: 0.4570\n",
      "Epoch 15/50, Loss: 0.4581\n",
      "Epoch 16/50, Loss: 0.4552\n",
      "Epoch 17/50, Loss: 0.4545\n",
      "Epoch 18/50, Loss: 0.4535\n",
      "Epoch 19/50, Loss: 0.4581\n",
      "Epoch 20/50, Loss: 0.4553\n",
      "Epoch 21/50, Loss: 0.4517\n",
      "Epoch 22/50, Loss: 0.4551\n",
      "Epoch 23/50, Loss: 0.4546\n",
      "Epoch 24/50, Loss: 0.4534\n",
      "Epoch 25/50, Loss: 0.4527\n",
      "Epoch 26/50, Loss: 0.4519\n",
      "Epoch 27/50, Loss: 0.4502\n",
      "Epoch 28/50, Loss: 0.4506\n",
      "Epoch 29/50, Loss: 0.4537\n",
      "Epoch 30/50, Loss: 0.4522\n",
      "Epoch 31/50, Loss: 0.4535\n",
      "Epoch 32/50, Loss: 0.4522\n",
      "Epoch 33/50, Loss: 0.4544\n",
      "Epoch 34/50, Loss: 0.4519\n",
      "Epoch 35/50, Loss: 0.4511\n",
      "Epoch 36/50, Loss: 0.4519\n",
      "Epoch 37/50, Loss: 0.4524\n",
      "Epoch 38/50, Loss: 0.4510\n",
      "Epoch 39/50, Loss: 0.4514\n",
      "Epoch 40/50, Loss: 0.4502\n",
      "Epoch 41/50, Loss: 0.4500\n",
      "Epoch 42/50, Loss: 0.4540\n",
      "Epoch 43/50, Loss: 0.4511\n",
      "Epoch 44/50, Loss: 0.4533\n",
      "Epoch 45/50, Loss: 0.4495\n",
      "Epoch 46/50, Loss: 0.4500\n",
      "Epoch 47/50, Loss: 0.4509\n",
      "Epoch 48/50, Loss: 0.4518\n",
      "Epoch 49/50, Loss: 0.4498\n",
      "Epoch 50/50, Loss: 0.4499\n"
     ]
    }
   ],
   "source": [
    "num_epochs = 50\n",
    "batch_size = 32\n",
    "train_data = torch.utils.data.TensorDataset(X_train_nn, Y_train_nn)\n",
    "train_loader = torch.utils.data.DataLoader(train_data, batch_size=batch_size, shuffle=True)\n",
    "\n",
    "for epoch in range(num_epochs):\n",
    "    CNN_bin.train()\n",
    "    total_loss = 0\n",
    "    for X_batch, Y_batch in train_loader:\n",
    "        # Forward pass\n",
    "        \n",
    "        X_batch = X_batch.to(device=device)\n",
    "        Y_batch = Y_batch.to(device=device)\n",
    "        outputs = CNN_bin(X_batch)\n",
    "        loss = criterion(outputs, Y_batch)\n",
    "\n",
    "        optimizer.zero_grad()\n",
    "        loss.backward()\n",
    "        optimizer.step()\n",
    "\n",
    "        total_loss += loss.item()\n",
    "\n",
    "    print(f'Epoch {epoch+1}/{num_epochs}, Loss: {total_loss/len(train_loader):.4f}')"
   ]
  },
  {
   "cell_type": "code",
   "execution_count": 70,
   "metadata": {},
   "outputs": [
    {
     "name": "stdout",
     "output_type": "stream",
     "text": [
      "Test Accuracy: 0.815345\n"
     ]
    }
   ],
   "source": [
    "CNN_bin.eval()\n",
    "X_test_nn = X_test_nn.to(device=device)\n",
    "Y_test_nn = Y_test_nn.to(device=device)\n",
    "\n",
    "with torch.no_grad():\n",
    "    outputs = CNN_bin(X_test_nn)\n",
    "    predictions = (outputs > 0.5).float()\n",
    "    accuracy = (predictions == Y_test_nn).float().mean()\n",
    "    print(f'Test Accuracy: {accuracy:.6f}')\n",
    "    \n",
    "torch.save(fc_bin.state_dict(), f'./models/cnn_test_{accuracy:.6f}.pth')"
   ]
  }
 ],
 "metadata": {
  "kernelspec": {
   "display_name": ".venv",
   "language": "python",
   "name": "python3"
  },
  "language_info": {
   "codemirror_mode": {
    "name": "ipython",
    "version": 3
   },
   "file_extension": ".py",
   "mimetype": "text/x-python",
   "name": "python",
   "nbconvert_exporter": "python",
   "pygments_lexer": "ipython3",
   "version": "3.12.3"
  }
 },
 "nbformat": 4,
 "nbformat_minor": 2
}
